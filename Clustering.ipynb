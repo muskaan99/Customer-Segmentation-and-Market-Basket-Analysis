{
 "cells": [
  {
   "cell_type": "markdown",
   "id": "1472f5ff",
   "metadata": {},
   "source": [
    "# Customer Segmentation & Market Basket Analysis"
   ]
  },
  {
   "cell_type": "markdown",
   "id": "b08c7dc2",
   "metadata": {},
   "source": [
    "The dataset has been obtained from UCI Machine Learning Repository. It comprises of the transactions occurring between 01/12/2010 and 09/12/2011 for a UK-based and registered non-store online retail.The company mainly sells unique all-occasion gifts. Many customers of the company are wholesalers."
   ]
  },
  {
   "cell_type": "markdown",
   "id": "d6ae1671",
   "metadata": {},
   "source": [
    "#### Link for dataset: https://archive.ics.uci.edu/ml/datasets/online+retail#\n"
   ]
  },
  {
   "cell_type": "code",
   "execution_count": 1,
   "id": "02459ed2",
   "metadata": {},
   "outputs": [],
   "source": [
    "import pandas as pd\n",
    "import numpy as np\n",
    "import datetime as dt\n",
    "import matplotlib.pyplot as plt\n",
    "import seaborn as sns\n",
    "from sklearn.cluster import KMeans\n",
    "from sklearn.preprocessing import MinMaxScaler\n",
    "from sklearn.metrics import silhouette_score\n",
    "from itertools import combinations\n",
    "from collections import Counter"
   ]
  },
  {
   "cell_type": "markdown",
   "id": "a9f975c6",
   "metadata": {},
   "source": [
    "## Reading dataset"
   ]
  },
  {
   "cell_type": "code",
   "execution_count": 2,
   "id": "45e74ba4",
   "metadata": {},
   "outputs": [],
   "source": [
    "data=pd.read_excel('OnlineRetail.xlsx')"
   ]
  },
  {
   "cell_type": "code",
   "execution_count": 3,
   "id": "82a4b60f",
   "metadata": {
    "scrolled": true
   },
   "outputs": [
    {
     "name": "stdout",
     "output_type": "stream",
     "text": [
      "Shape of dataset: (541909, 8)\n"
     ]
    },
    {
     "data": {
      "text/html": [
       "<div>\n",
       "<style scoped>\n",
       "    .dataframe tbody tr th:only-of-type {\n",
       "        vertical-align: middle;\n",
       "    }\n",
       "\n",
       "    .dataframe tbody tr th {\n",
       "        vertical-align: top;\n",
       "    }\n",
       "\n",
       "    .dataframe thead th {\n",
       "        text-align: right;\n",
       "    }\n",
       "</style>\n",
       "<table border=\"1\" class=\"dataframe\">\n",
       "  <thead>\n",
       "    <tr style=\"text-align: right;\">\n",
       "      <th></th>\n",
       "      <th>InvoiceNo</th>\n",
       "      <th>StockCode</th>\n",
       "      <th>Description</th>\n",
       "      <th>Quantity</th>\n",
       "      <th>InvoiceDate</th>\n",
       "      <th>UnitPrice</th>\n",
       "      <th>CustomerID</th>\n",
       "      <th>Country</th>\n",
       "    </tr>\n",
       "  </thead>\n",
       "  <tbody>\n",
       "    <tr>\n",
       "      <th>0</th>\n",
       "      <td>536365</td>\n",
       "      <td>85123A</td>\n",
       "      <td>WHITE HANGING HEART T-LIGHT HOLDER</td>\n",
       "      <td>6</td>\n",
       "      <td>2010-12-01 08:26:00</td>\n",
       "      <td>2.55</td>\n",
       "      <td>17850.0</td>\n",
       "      <td>United Kingdom</td>\n",
       "    </tr>\n",
       "    <tr>\n",
       "      <th>1</th>\n",
       "      <td>536365</td>\n",
       "      <td>71053</td>\n",
       "      <td>WHITE METAL LANTERN</td>\n",
       "      <td>6</td>\n",
       "      <td>2010-12-01 08:26:00</td>\n",
       "      <td>3.39</td>\n",
       "      <td>17850.0</td>\n",
       "      <td>United Kingdom</td>\n",
       "    </tr>\n",
       "    <tr>\n",
       "      <th>2</th>\n",
       "      <td>536365</td>\n",
       "      <td>84406B</td>\n",
       "      <td>CREAM CUPID HEARTS COAT HANGER</td>\n",
       "      <td>8</td>\n",
       "      <td>2010-12-01 08:26:00</td>\n",
       "      <td>2.75</td>\n",
       "      <td>17850.0</td>\n",
       "      <td>United Kingdom</td>\n",
       "    </tr>\n",
       "    <tr>\n",
       "      <th>3</th>\n",
       "      <td>536365</td>\n",
       "      <td>84029G</td>\n",
       "      <td>KNITTED UNION FLAG HOT WATER BOTTLE</td>\n",
       "      <td>6</td>\n",
       "      <td>2010-12-01 08:26:00</td>\n",
       "      <td>3.39</td>\n",
       "      <td>17850.0</td>\n",
       "      <td>United Kingdom</td>\n",
       "    </tr>\n",
       "    <tr>\n",
       "      <th>4</th>\n",
       "      <td>536365</td>\n",
       "      <td>84029E</td>\n",
       "      <td>RED WOOLLY HOTTIE WHITE HEART.</td>\n",
       "      <td>6</td>\n",
       "      <td>2010-12-01 08:26:00</td>\n",
       "      <td>3.39</td>\n",
       "      <td>17850.0</td>\n",
       "      <td>United Kingdom</td>\n",
       "    </tr>\n",
       "  </tbody>\n",
       "</table>\n",
       "</div>"
      ],
      "text/plain": [
       "  InvoiceNo StockCode                          Description  Quantity  \\\n",
       "0    536365    85123A   WHITE HANGING HEART T-LIGHT HOLDER         6   \n",
       "1    536365     71053                  WHITE METAL LANTERN         6   \n",
       "2    536365    84406B       CREAM CUPID HEARTS COAT HANGER         8   \n",
       "3    536365    84029G  KNITTED UNION FLAG HOT WATER BOTTLE         6   \n",
       "4    536365    84029E       RED WOOLLY HOTTIE WHITE HEART.         6   \n",
       "\n",
       "          InvoiceDate  UnitPrice  CustomerID         Country  \n",
       "0 2010-12-01 08:26:00       2.55     17850.0  United Kingdom  \n",
       "1 2010-12-01 08:26:00       3.39     17850.0  United Kingdom  \n",
       "2 2010-12-01 08:26:00       2.75     17850.0  United Kingdom  \n",
       "3 2010-12-01 08:26:00       3.39     17850.0  United Kingdom  \n",
       "4 2010-12-01 08:26:00       3.39     17850.0  United Kingdom  "
      ]
     },
     "execution_count": 3,
     "metadata": {},
     "output_type": "execute_result"
    }
   ],
   "source": [
    "print(\"Shape of dataset:\",data.shape)\n",
    "data.head()"
   ]
  },
  {
   "cell_type": "code",
   "execution_count": 4,
   "id": "787a9379",
   "metadata": {
    "scrolled": false
   },
   "outputs": [
    {
     "name": "stdout",
     "output_type": "stream",
     "text": [
      "<class 'pandas.core.frame.DataFrame'>\n",
      "RangeIndex: 541909 entries, 0 to 541908\n",
      "Data columns (total 8 columns):\n",
      " #   Column       Non-Null Count   Dtype         \n",
      "---  ------       --------------   -----         \n",
      " 0   InvoiceNo    541909 non-null  object        \n",
      " 1   StockCode    541909 non-null  object        \n",
      " 2   Description  540455 non-null  object        \n",
      " 3   Quantity     541909 non-null  int64         \n",
      " 4   InvoiceDate  541909 non-null  datetime64[ns]\n",
      " 5   UnitPrice    541909 non-null  float64       \n",
      " 6   CustomerID   406829 non-null  float64       \n",
      " 7   Country      541909 non-null  object        \n",
      "dtypes: datetime64[ns](1), float64(2), int64(1), object(4)\n",
      "memory usage: 33.1+ MB\n"
     ]
    }
   ],
   "source": [
    "data.info() #to see the number of non null objects in the dataset"
   ]
  },
  {
   "cell_type": "markdown",
   "id": "1fe7869b",
   "metadata": {},
   "source": [
    "The CustomerID column of the dataset has null values so they need to be removed such that all the columns have equal number of rows."
   ]
  },
  {
   "cell_type": "code",
   "execution_count": 5,
   "id": "c201b1b2",
   "metadata": {},
   "outputs": [],
   "source": [
    "data=data.dropna()#dropping the NA values from the dataset"
   ]
  },
  {
   "cell_type": "code",
   "execution_count": 6,
   "id": "3c595c2f",
   "metadata": {},
   "outputs": [
    {
     "name": "stdout",
     "output_type": "stream",
     "text": [
      "Shape of dataset after removing missing values: (406829, 8)\n"
     ]
    }
   ],
   "source": [
    "print('Shape of dataset after removing missing values:',data.shape)"
   ]
  },
  {
   "cell_type": "code",
   "execution_count": 7,
   "id": "4b9d5957",
   "metadata": {},
   "outputs": [
    {
     "name": "stdout",
     "output_type": "stream",
     "text": [
      "The dataset comprises of: 373 days 04:24:00\n"
     ]
    }
   ],
   "source": [
    "#finding the total number of days in the dataset\n",
    "print('The dataset comprises of:',data.InvoiceDate.max()-data.InvoiceDate.min())"
   ]
  },
  {
   "cell_type": "code",
   "execution_count": 8,
   "id": "16b3bdee",
   "metadata": {
    "scrolled": true
   },
   "outputs": [
    {
     "data": {
      "text/html": [
       "<div>\n",
       "<style scoped>\n",
       "    .dataframe tbody tr th:only-of-type {\n",
       "        vertical-align: middle;\n",
       "    }\n",
       "\n",
       "    .dataframe tbody tr th {\n",
       "        vertical-align: top;\n",
       "    }\n",
       "\n",
       "    .dataframe thead th {\n",
       "        text-align: right;\n",
       "    }\n",
       "</style>\n",
       "<table border=\"1\" class=\"dataframe\">\n",
       "  <thead>\n",
       "    <tr style=\"text-align: right;\">\n",
       "      <th></th>\n",
       "      <th>Quantity</th>\n",
       "      <th>UnitPrice</th>\n",
       "      <th>CustomerID</th>\n",
       "    </tr>\n",
       "  </thead>\n",
       "  <tbody>\n",
       "    <tr>\n",
       "      <th>count</th>\n",
       "      <td>406829.000000</td>\n",
       "      <td>406829.000000</td>\n",
       "      <td>406829.000000</td>\n",
       "    </tr>\n",
       "    <tr>\n",
       "      <th>mean</th>\n",
       "      <td>12.061303</td>\n",
       "      <td>3.460471</td>\n",
       "      <td>15287.690570</td>\n",
       "    </tr>\n",
       "    <tr>\n",
       "      <th>std</th>\n",
       "      <td>248.693370</td>\n",
       "      <td>69.315162</td>\n",
       "      <td>1713.600303</td>\n",
       "    </tr>\n",
       "    <tr>\n",
       "      <th>min</th>\n",
       "      <td>-80995.000000</td>\n",
       "      <td>0.000000</td>\n",
       "      <td>12346.000000</td>\n",
       "    </tr>\n",
       "    <tr>\n",
       "      <th>25%</th>\n",
       "      <td>2.000000</td>\n",
       "      <td>1.250000</td>\n",
       "      <td>13953.000000</td>\n",
       "    </tr>\n",
       "    <tr>\n",
       "      <th>50%</th>\n",
       "      <td>5.000000</td>\n",
       "      <td>1.950000</td>\n",
       "      <td>15152.000000</td>\n",
       "    </tr>\n",
       "    <tr>\n",
       "      <th>75%</th>\n",
       "      <td>12.000000</td>\n",
       "      <td>3.750000</td>\n",
       "      <td>16791.000000</td>\n",
       "    </tr>\n",
       "    <tr>\n",
       "      <th>max</th>\n",
       "      <td>80995.000000</td>\n",
       "      <td>38970.000000</td>\n",
       "      <td>18287.000000</td>\n",
       "    </tr>\n",
       "  </tbody>\n",
       "</table>\n",
       "</div>"
      ],
      "text/plain": [
       "            Quantity      UnitPrice     CustomerID\n",
       "count  406829.000000  406829.000000  406829.000000\n",
       "mean       12.061303       3.460471   15287.690570\n",
       "std       248.693370      69.315162    1713.600303\n",
       "min    -80995.000000       0.000000   12346.000000\n",
       "25%         2.000000       1.250000   13953.000000\n",
       "50%         5.000000       1.950000   15152.000000\n",
       "75%        12.000000       3.750000   16791.000000\n",
       "max     80995.000000   38970.000000   18287.000000"
      ]
     },
     "execution_count": 8,
     "metadata": {},
     "output_type": "execute_result"
    }
   ],
   "source": [
    "data.describe()# to see the minimum and maximum values stored in the dataset"
   ]
  },
  {
   "cell_type": "markdown",
   "id": "35d9dbc7",
   "metadata": {},
   "source": [
    "The minimum of the Quantity column has negative values due to cancelled transactions. Also, the UnitPrice has some 0 entries which can be assumed to be free products given to customers as a part of promotion."
   ]
  },
  {
   "cell_type": "code",
   "execution_count": 9,
   "id": "8b4f720a",
   "metadata": {},
   "outputs": [],
   "source": [
    "# extracting the year_month from InvoiceDate column \n",
    "data.loc[:,'Year_Month']=data['InvoiceDate'].apply(lambda s: s.strftime('%Y-%m'))"
   ]
  },
  {
   "cell_type": "code",
   "execution_count": 10,
   "id": "cb8d217e",
   "metadata": {
    "scrolled": true
   },
   "outputs": [],
   "source": [
    "#finding the expense by multplying the price of product i.e. UnitPrice column with the quantity i.e. Quantity column that was bought\n",
    "data['Expense'] =data.apply(lambda row: row['UnitPrice'] * row['Quantity'], axis=1)"
   ]
  },
  {
   "cell_type": "code",
   "execution_count": 11,
   "id": "4b6fb43e",
   "metadata": {},
   "outputs": [
    {
     "data": {
      "text/html": [
       "<div>\n",
       "<style scoped>\n",
       "    .dataframe tbody tr th:only-of-type {\n",
       "        vertical-align: middle;\n",
       "    }\n",
       "\n",
       "    .dataframe tbody tr th {\n",
       "        vertical-align: top;\n",
       "    }\n",
       "\n",
       "    .dataframe thead th {\n",
       "        text-align: right;\n",
       "    }\n",
       "</style>\n",
       "<table border=\"1\" class=\"dataframe\">\n",
       "  <thead>\n",
       "    <tr style=\"text-align: right;\">\n",
       "      <th></th>\n",
       "      <th>InvoiceNo</th>\n",
       "      <th>StockCode</th>\n",
       "      <th>Description</th>\n",
       "      <th>Quantity</th>\n",
       "      <th>InvoiceDate</th>\n",
       "      <th>UnitPrice</th>\n",
       "      <th>CustomerID</th>\n",
       "      <th>Country</th>\n",
       "      <th>Year_Month</th>\n",
       "      <th>Expense</th>\n",
       "    </tr>\n",
       "  </thead>\n",
       "  <tbody>\n",
       "    <tr>\n",
       "      <th>0</th>\n",
       "      <td>536365</td>\n",
       "      <td>85123A</td>\n",
       "      <td>WHITE HANGING HEART T-LIGHT HOLDER</td>\n",
       "      <td>6</td>\n",
       "      <td>2010-12-01 08:26:00</td>\n",
       "      <td>2.55</td>\n",
       "      <td>17850.0</td>\n",
       "      <td>United Kingdom</td>\n",
       "      <td>2010-12</td>\n",
       "      <td>15.30</td>\n",
       "    </tr>\n",
       "    <tr>\n",
       "      <th>1</th>\n",
       "      <td>536365</td>\n",
       "      <td>71053</td>\n",
       "      <td>WHITE METAL LANTERN</td>\n",
       "      <td>6</td>\n",
       "      <td>2010-12-01 08:26:00</td>\n",
       "      <td>3.39</td>\n",
       "      <td>17850.0</td>\n",
       "      <td>United Kingdom</td>\n",
       "      <td>2010-12</td>\n",
       "      <td>20.34</td>\n",
       "    </tr>\n",
       "    <tr>\n",
       "      <th>2</th>\n",
       "      <td>536365</td>\n",
       "      <td>84406B</td>\n",
       "      <td>CREAM CUPID HEARTS COAT HANGER</td>\n",
       "      <td>8</td>\n",
       "      <td>2010-12-01 08:26:00</td>\n",
       "      <td>2.75</td>\n",
       "      <td>17850.0</td>\n",
       "      <td>United Kingdom</td>\n",
       "      <td>2010-12</td>\n",
       "      <td>22.00</td>\n",
       "    </tr>\n",
       "    <tr>\n",
       "      <th>3</th>\n",
       "      <td>536365</td>\n",
       "      <td>84029G</td>\n",
       "      <td>KNITTED UNION FLAG HOT WATER BOTTLE</td>\n",
       "      <td>6</td>\n",
       "      <td>2010-12-01 08:26:00</td>\n",
       "      <td>3.39</td>\n",
       "      <td>17850.0</td>\n",
       "      <td>United Kingdom</td>\n",
       "      <td>2010-12</td>\n",
       "      <td>20.34</td>\n",
       "    </tr>\n",
       "    <tr>\n",
       "      <th>4</th>\n",
       "      <td>536365</td>\n",
       "      <td>84029E</td>\n",
       "      <td>RED WOOLLY HOTTIE WHITE HEART.</td>\n",
       "      <td>6</td>\n",
       "      <td>2010-12-01 08:26:00</td>\n",
       "      <td>3.39</td>\n",
       "      <td>17850.0</td>\n",
       "      <td>United Kingdom</td>\n",
       "      <td>2010-12</td>\n",
       "      <td>20.34</td>\n",
       "    </tr>\n",
       "  </tbody>\n",
       "</table>\n",
       "</div>"
      ],
      "text/plain": [
       "  InvoiceNo StockCode                          Description  Quantity  \\\n",
       "0    536365    85123A   WHITE HANGING HEART T-LIGHT HOLDER         6   \n",
       "1    536365     71053                  WHITE METAL LANTERN         6   \n",
       "2    536365    84406B       CREAM CUPID HEARTS COAT HANGER         8   \n",
       "3    536365    84029G  KNITTED UNION FLAG HOT WATER BOTTLE         6   \n",
       "4    536365    84029E       RED WOOLLY HOTTIE WHITE HEART.         6   \n",
       "\n",
       "          InvoiceDate  UnitPrice  CustomerID         Country Year_Month  \\\n",
       "0 2010-12-01 08:26:00       2.55     17850.0  United Kingdom    2010-12   \n",
       "1 2010-12-01 08:26:00       3.39     17850.0  United Kingdom    2010-12   \n",
       "2 2010-12-01 08:26:00       2.75     17850.0  United Kingdom    2010-12   \n",
       "3 2010-12-01 08:26:00       3.39     17850.0  United Kingdom    2010-12   \n",
       "4 2010-12-01 08:26:00       3.39     17850.0  United Kingdom    2010-12   \n",
       "\n",
       "   Expense  \n",
       "0    15.30  \n",
       "1    20.34  \n",
       "2    22.00  \n",
       "3    20.34  \n",
       "4    20.34  "
      ]
     },
     "execution_count": 11,
     "metadata": {},
     "output_type": "execute_result"
    }
   ],
   "source": [
    "data.head()#observing the changes in dataset"
   ]
  },
  {
   "cell_type": "markdown",
   "id": "d78794a4",
   "metadata": {},
   "source": [
    "We can see that two new columns i.e. Year_Month and Expense have been added to the dataset."
   ]
  },
  {
   "cell_type": "markdown",
   "id": "499a3086",
   "metadata": {},
   "source": [
    "As the dataset contains some cancelled transactions, we create another dataset with just the cancelled transactions. The cancelled transactions can be identified by InvoiceNo entries beginning with letter 'c'."
   ]
  },
  {
   "cell_type": "markdown",
   "id": "70c72e37",
   "metadata": {},
   "source": [
    "## Looking at the cancelled transactions"
   ]
  },
  {
   "cell_type": "code",
   "execution_count": 12,
   "id": "79015cee",
   "metadata": {},
   "outputs": [],
   "source": [
    "candata = data[data['InvoiceNo'].str.startswith('c')==False]# finding all the cancelled transactions"
   ]
  },
  {
   "cell_type": "code",
   "execution_count": 13,
   "id": "e71b6b7d",
   "metadata": {
    "scrolled": false
   },
   "outputs": [
    {
     "data": {
      "text/html": [
       "<div>\n",
       "<style scoped>\n",
       "    .dataframe tbody tr th:only-of-type {\n",
       "        vertical-align: middle;\n",
       "    }\n",
       "\n",
       "    .dataframe tbody tr th {\n",
       "        vertical-align: top;\n",
       "    }\n",
       "\n",
       "    .dataframe thead th {\n",
       "        text-align: right;\n",
       "    }\n",
       "</style>\n",
       "<table border=\"1\" class=\"dataframe\">\n",
       "  <thead>\n",
       "    <tr style=\"text-align: right;\">\n",
       "      <th></th>\n",
       "      <th>Quantity</th>\n",
       "      <th>UnitPrice</th>\n",
       "      <th>CustomerID</th>\n",
       "      <th>Expense</th>\n",
       "    </tr>\n",
       "  </thead>\n",
       "  <tbody>\n",
       "    <tr>\n",
       "      <th>count</th>\n",
       "      <td>8905.000000</td>\n",
       "      <td>8905.000000</td>\n",
       "      <td>8905.000000</td>\n",
       "      <td>8905.000000</td>\n",
       "    </tr>\n",
       "    <tr>\n",
       "      <th>mean</th>\n",
       "      <td>-30.859966</td>\n",
       "      <td>18.845519</td>\n",
       "      <td>14991.667266</td>\n",
       "      <td>-68.651554</td>\n",
       "    </tr>\n",
       "    <tr>\n",
       "      <th>std</th>\n",
       "      <td>1170.154939</td>\n",
       "      <td>444.366043</td>\n",
       "      <td>1706.772357</td>\n",
       "      <td>2019.177682</td>\n",
       "    </tr>\n",
       "    <tr>\n",
       "      <th>min</th>\n",
       "      <td>-80995.000000</td>\n",
       "      <td>0.010000</td>\n",
       "      <td>12346.000000</td>\n",
       "      <td>-168469.600000</td>\n",
       "    </tr>\n",
       "    <tr>\n",
       "      <th>25%</th>\n",
       "      <td>-6.000000</td>\n",
       "      <td>1.450000</td>\n",
       "      <td>13510.000000</td>\n",
       "      <td>-17.000000</td>\n",
       "    </tr>\n",
       "    <tr>\n",
       "      <th>50%</th>\n",
       "      <td>-2.000000</td>\n",
       "      <td>2.950000</td>\n",
       "      <td>14895.000000</td>\n",
       "      <td>-8.500000</td>\n",
       "    </tr>\n",
       "    <tr>\n",
       "      <th>75%</th>\n",
       "      <td>-1.000000</td>\n",
       "      <td>4.950000</td>\n",
       "      <td>16393.000000</td>\n",
       "      <td>-3.300000</td>\n",
       "    </tr>\n",
       "    <tr>\n",
       "      <th>max</th>\n",
       "      <td>-1.000000</td>\n",
       "      <td>38970.000000</td>\n",
       "      <td>18282.000000</td>\n",
       "      <td>-0.120000</td>\n",
       "    </tr>\n",
       "  </tbody>\n",
       "</table>\n",
       "</div>"
      ],
      "text/plain": [
       "           Quantity     UnitPrice    CustomerID        Expense\n",
       "count   8905.000000   8905.000000   8905.000000    8905.000000\n",
       "mean     -30.859966     18.845519  14991.667266     -68.651554\n",
       "std     1170.154939    444.366043   1706.772357    2019.177682\n",
       "min   -80995.000000      0.010000  12346.000000 -168469.600000\n",
       "25%       -6.000000      1.450000  13510.000000     -17.000000\n",
       "50%       -2.000000      2.950000  14895.000000      -8.500000\n",
       "75%       -1.000000      4.950000  16393.000000      -3.300000\n",
       "max       -1.000000  38970.000000  18282.000000      -0.120000"
      ]
     },
     "execution_count": 13,
     "metadata": {},
     "output_type": "execute_result"
    }
   ],
   "source": [
    "candata.describe()"
   ]
  },
  {
   "cell_type": "markdown",
   "id": "68be1798",
   "metadata": {},
   "source": [
    "With the information from cancelled data it is difficult to find why orders were cancelled so we can analyse the cancelled data information separately."
   ]
  },
  {
   "cell_type": "code",
   "execution_count": 14,
   "id": "e0b2bfc1",
   "metadata": {},
   "outputs": [
    {
     "name": "stdout",
     "output_type": "stream",
     "text": [
      "Total number of cancelled transactions= 3654\n"
     ]
    }
   ],
   "source": [
    "candata.groupby(['Description'])\n",
    "print('Total number of cancelled transactions=',len(candata['InvoiceNo'].value_counts()))"
   ]
  },
  {
   "cell_type": "markdown",
   "id": "6df3c264",
   "metadata": {},
   "source": [
    "### Top 10 products that were cancelled after ordering"
   ]
  },
  {
   "cell_type": "code",
   "execution_count": 99,
   "id": "1e2a1949",
   "metadata": {
    "scrolled": true
   },
   "outputs": [
    {
     "data": {
      "image/png": "[encoded data removed]",
      "text/plain": [
       "<Figure size 720x432 with 1 Axes>"
      ]
     },
     "metadata": {},
     "output_type": "display_data"
    }
   ],
   "source": [
    "can_orders = candata['Description'].value_counts().sort_values(ascending=False)\n",
    "plt.figure(figsize=(10, 6))\n",
    "plt.bar(can_orders.iloc[0:10].index,can_orders.iloc[0:10].values,color='pink')\n",
    "plt.xticks(rotation=90)\n",
    "plt.ylabel(\"Number of cancelled orders\")\n",
    "plt.xlabel(\"Product description\")\n",
    "plt.title(\"Top 10 products that were cancelled after ordering\",fontweight=\"bold\")\n",
    "plt.show()"
   ]
  },
  {
   "cell_type": "markdown",
   "id": "9255728d",
   "metadata": {},
   "source": [
    "It is observed that the top 5 products that were cancelled after purchasing are Regency Cakestand 3 Tier, Manual, Postage, Jam making set with jars and Discount. We should not take discount into consideration as a part of cancelled orders. The online retail store needs to look further in depth regarding why the orders for items like Regency Cakestand 3 Tier,Jam making set with jars, Strawberry ceramic trinket box, etc. were getting cancelled. There could be various possibilities like product has some manufacturing defect, product did not match the description as listed by the store, customer received a broken product in case of fragile products, etc."
   ]
  },
  {
   "cell_type": "markdown",
   "id": "21899522",
   "metadata": {},
   "source": [
    "### Finding the countries from where most number of orders were cancelled"
   ]
  },
  {
   "cell_type": "code",
   "execution_count": 16,
   "id": "bf88298c",
   "metadata": {
    "scrolled": true
   },
   "outputs": [
    {
     "data": {
      "text/plain": [
       "United Kingdom        7533\n",
       "Germany                453\n",
       "EIRE                   247\n",
       "France                 149\n",
       "USA                    112\n",
       "Australia               74\n",
       "Spain                   48\n",
       "Italy                   45\n",
       "Belgium                 38\n",
       "Japan                   37\n",
       "Switzerland             35\n",
       "Portugal                18\n",
       "Malta                   15\n",
       "Norway                  14\n",
       "Poland                  11\n",
       "Sweden                  11\n",
       "Channel Islands         10\n",
       "Finland                 10\n",
       "Denmark                  9\n",
       "Cyprus                   8\n",
       "Netherlands              8\n",
       "Singapore                7\n",
       "Czech Republic           5\n",
       "Austria                  3\n",
       "Israel                   2\n",
       "Saudi Arabia             1\n",
       "European Community       1\n",
       "Greece                   1\n",
       "Name: Country, dtype: int64"
      ]
     },
     "execution_count": 16,
     "metadata": {},
     "output_type": "execute_result"
    }
   ],
   "source": [
    "candata['Country'].value_counts(sort=True)"
   ]
  },
  {
   "cell_type": "markdown",
   "id": "c217058a",
   "metadata": {},
   "source": [
    "The most number of cancelled orders were from United Kingdom, Germany, EIRE, France and USA."
   ]
  },
  {
   "cell_type": "markdown",
   "id": "5646531f",
   "metadata": {},
   "source": [
    "## Cleaning data"
   ]
  },
  {
   "cell_type": "markdown",
   "id": "3eedc023",
   "metadata": {},
   "source": [
    "It was observed earlier that the minimum value of quantity was negative in case of cancelled transactions and it is not \n",
    "possible to have quantity negative so we will get rid of all the data where quantity is negative"
   ]
  },
  {
   "cell_type": "code",
   "execution_count": 17,
   "id": "bdc8eb03",
   "metadata": {},
   "outputs": [],
   "source": [
    "data = data[data['Quantity'] > 0] "
   ]
  },
  {
   "cell_type": "code",
   "execution_count": 18,
   "id": "305132b0",
   "metadata": {},
   "outputs": [
    {
     "name": "stdout",
     "output_type": "stream",
     "text": [
      "<class 'pandas.core.frame.DataFrame'>\n",
      "Int64Index: 397924 entries, 0 to 541908\n",
      "Data columns (total 10 columns):\n",
      " #   Column       Non-Null Count   Dtype         \n",
      "---  ------       --------------   -----         \n",
      " 0   InvoiceNo    397924 non-null  object        \n",
      " 1   StockCode    397924 non-null  object        \n",
      " 2   Description  397924 non-null  object        \n",
      " 3   Quantity     397924 non-null  int64         \n",
      " 4   InvoiceDate  397924 non-null  datetime64[ns]\n",
      " 5   UnitPrice    397924 non-null  float64       \n",
      " 6   CustomerID   397924 non-null  float64       \n",
      " 7   Country      397924 non-null  object        \n",
      " 8   Year_Month   397924 non-null  object        \n",
      " 9   Expense      397924 non-null  float64       \n",
      "dtypes: datetime64[ns](1), float64(3), int64(1), object(5)\n",
      "memory usage: 33.4+ MB\n"
     ]
    }
   ],
   "source": [
    "data.info()"
   ]
  },
  {
   "cell_type": "markdown",
   "id": "4507137b",
   "metadata": {},
   "source": [
    "Now,we can see that the dataset has same number of rows and there are no null values as well in the dataset."
   ]
  },
  {
   "cell_type": "markdown",
   "id": "3beac507",
   "metadata": {},
   "source": [
    "We can see that the InvoiceDate column is in datetime64[ns] format, thus we can extract Date and Time."
   ]
  },
  {
   "cell_type": "code",
   "execution_count": 19,
   "id": "5cdecbbf",
   "metadata": {},
   "outputs": [
    {
     "data": {
      "text/html": [
       "<div>\n",
       "<style scoped>\n",
       "    .dataframe tbody tr th:only-of-type {\n",
       "        vertical-align: middle;\n",
       "    }\n",
       "\n",
       "    .dataframe tbody tr th {\n",
       "        vertical-align: top;\n",
       "    }\n",
       "\n",
       "    .dataframe thead th {\n",
       "        text-align: right;\n",
       "    }\n",
       "</style>\n",
       "<table border=\"1\" class=\"dataframe\">\n",
       "  <thead>\n",
       "    <tr style=\"text-align: right;\">\n",
       "      <th></th>\n",
       "      <th>InvoiceNo</th>\n",
       "      <th>StockCode</th>\n",
       "      <th>Description</th>\n",
       "      <th>Quantity</th>\n",
       "      <th>InvoiceDate</th>\n",
       "      <th>UnitPrice</th>\n",
       "      <th>CustomerID</th>\n",
       "      <th>Country</th>\n",
       "      <th>Year_Month</th>\n",
       "      <th>Expense</th>\n",
       "      <th>Date</th>\n",
       "    </tr>\n",
       "  </thead>\n",
       "  <tbody>\n",
       "    <tr>\n",
       "      <th>0</th>\n",
       "      <td>536365</td>\n",
       "      <td>85123A</td>\n",
       "      <td>WHITE HANGING HEART T-LIGHT HOLDER</td>\n",
       "      <td>6</td>\n",
       "      <td>2010-12-01 08:26:00</td>\n",
       "      <td>2.55</td>\n",
       "      <td>17850.0</td>\n",
       "      <td>United Kingdom</td>\n",
       "      <td>2010-12</td>\n",
       "      <td>15.30</td>\n",
       "      <td>2010-12-01</td>\n",
       "    </tr>\n",
       "    <tr>\n",
       "      <th>1</th>\n",
       "      <td>536365</td>\n",
       "      <td>71053</td>\n",
       "      <td>WHITE METAL LANTERN</td>\n",
       "      <td>6</td>\n",
       "      <td>2010-12-01 08:26:00</td>\n",
       "      <td>3.39</td>\n",
       "      <td>17850.0</td>\n",
       "      <td>United Kingdom</td>\n",
       "      <td>2010-12</td>\n",
       "      <td>20.34</td>\n",
       "      <td>2010-12-01</td>\n",
       "    </tr>\n",
       "    <tr>\n",
       "      <th>2</th>\n",
       "      <td>536365</td>\n",
       "      <td>84406B</td>\n",
       "      <td>CREAM CUPID HEARTS COAT HANGER</td>\n",
       "      <td>8</td>\n",
       "      <td>2010-12-01 08:26:00</td>\n",
       "      <td>2.75</td>\n",
       "      <td>17850.0</td>\n",
       "      <td>United Kingdom</td>\n",
       "      <td>2010-12</td>\n",
       "      <td>22.00</td>\n",
       "      <td>2010-12-01</td>\n",
       "    </tr>\n",
       "    <tr>\n",
       "      <th>3</th>\n",
       "      <td>536365</td>\n",
       "      <td>84029G</td>\n",
       "      <td>KNITTED UNION FLAG HOT WATER BOTTLE</td>\n",
       "      <td>6</td>\n",
       "      <td>2010-12-01 08:26:00</td>\n",
       "      <td>3.39</td>\n",
       "      <td>17850.0</td>\n",
       "      <td>United Kingdom</td>\n",
       "      <td>2010-12</td>\n",
       "      <td>20.34</td>\n",
       "      <td>2010-12-01</td>\n",
       "    </tr>\n",
       "    <tr>\n",
       "      <th>4</th>\n",
       "      <td>536365</td>\n",
       "      <td>84029E</td>\n",
       "      <td>RED WOOLLY HOTTIE WHITE HEART.</td>\n",
       "      <td>6</td>\n",
       "      <td>2010-12-01 08:26:00</td>\n",
       "      <td>3.39</td>\n",
       "      <td>17850.0</td>\n",
       "      <td>United Kingdom</td>\n",
       "      <td>2010-12</td>\n",
       "      <td>20.34</td>\n",
       "      <td>2010-12-01</td>\n",
       "    </tr>\n",
       "  </tbody>\n",
       "</table>\n",
       "</div>"
      ],
      "text/plain": [
       "  InvoiceNo StockCode                          Description  Quantity  \\\n",
       "0    536365    85123A   WHITE HANGING HEART T-LIGHT HOLDER         6   \n",
       "1    536365     71053                  WHITE METAL LANTERN         6   \n",
       "2    536365    84406B       CREAM CUPID HEARTS COAT HANGER         8   \n",
       "3    536365    84029G  KNITTED UNION FLAG HOT WATER BOTTLE         6   \n",
       "4    536365    84029E       RED WOOLLY HOTTIE WHITE HEART.         6   \n",
       "\n",
       "          InvoiceDate  UnitPrice  CustomerID         Country Year_Month  \\\n",
       "0 2010-12-01 08:26:00       2.55     17850.0  United Kingdom    2010-12   \n",
       "1 2010-12-01 08:26:00       3.39     17850.0  United Kingdom    2010-12   \n",
       "2 2010-12-01 08:26:00       2.75     17850.0  United Kingdom    2010-12   \n",
       "3 2010-12-01 08:26:00       3.39     17850.0  United Kingdom    2010-12   \n",
       "4 2010-12-01 08:26:00       3.39     17850.0  United Kingdom    2010-12   \n",
       "\n",
       "   Expense        Date  \n",
       "0    15.30  2010-12-01  \n",
       "1    20.34  2010-12-01  \n",
       "2    22.00  2010-12-01  \n",
       "3    20.34  2010-12-01  \n",
       "4    20.34  2010-12-01  "
      ]
     },
     "execution_count": 19,
     "metadata": {},
     "output_type": "execute_result"
    }
   ],
   "source": [
    "data['Date']=data['InvoiceDate'].dt.date# extracting date\n",
    "data.head()"
   ]
  },
  {
   "cell_type": "code",
   "execution_count": 20,
   "id": "6e103326",
   "metadata": {},
   "outputs": [
    {
     "name": "stdout",
     "output_type": "stream",
     "text": [
      "Total customers in database= 4339\n",
      "Total number of transactions= 18536\n"
     ]
    }
   ],
   "source": [
    "print('Total customers in database=',len(data['CustomerID'].value_counts()))\n",
    "print('Total number of transactions=',len(data['InvoiceNo'].value_counts()))"
   ]
  },
  {
   "cell_type": "markdown",
   "id": "b10e8902",
   "metadata": {},
   "source": [
    "## Exploratory Data Analysis"
   ]
  },
  {
   "cell_type": "markdown",
   "id": "62a4b19f",
   "metadata": {},
   "source": [
    "### Countries that purchased most"
   ]
  },
  {
   "cell_type": "code",
   "execution_count": 21,
   "id": "6dfa1fab",
   "metadata": {
    "scrolled": true
   },
   "outputs": [
    {
     "data": {
      "image/png": "[encoded data removed]",
      "text/plain": [
       "<Figure size 576x432 with 1 Axes>"
      ]
     },
     "metadata": {
      "needs_background": "light"
     },
     "output_type": "display_data"
    }
   ],
   "source": [
    "plt.figure(figsize=(8, 6))\n",
    "data['Country'].value_counts()[:10].plot(kind='barh',color='orange')\n",
    "plt.legend(labels = ['Total products purchased'])\n",
    "plt.title('Top 10 countries that bought the most number of products',fontweight=\"bold\")\n",
    "plt.ylabel('Countries')\n",
    "plt.xlabel('Total number of products bought')\n",
    "plt.show()"
   ]
  },
  {
   "cell_type": "markdown",
   "id": "4f298675",
   "metadata": {},
   "source": [
    "We can observe that the top 5 customers of the company are from United Kingdom, Germany, France, EIRE and Spain. Majority of customers for the retail store seem to be from United Kingdom itself where the store is based."
   ]
  },
  {
   "cell_type": "markdown",
   "id": "119118d8",
   "metadata": {},
   "source": [
    "#### Percentage of purchases made by top 3 countries"
   ]
  },
  {
   "cell_type": "code",
   "execution_count": 22,
   "id": "805735ab",
   "metadata": {},
   "outputs": [
    {
     "name": "stdout",
     "output_type": "stream",
     "text": [
      "Percentage of purchase done by customers from UK= 89.04841125441038 %\n",
      "Percentage of purchase done by customers from Germany= 2.2722932017169106 %\n",
      "Percentage of purchase done by customers from France= 2.096380213307064 %\n"
     ]
    }
   ],
   "source": [
    "print('Percentage of purchase done by customers from UK=',data.loc[data.Country==\"United Kingdom\"].shape[0] / data.shape[0] * 100,'%')\n",
    "print('Percentage of purchase done by customers from Germany=',data.loc[data.Country==\"Germany\"].shape[0] / data.shape[0] * 100,'%')\n",
    "print('Percentage of purchase done by customers from France=',data.loc[data.Country==\"France\"].shape[0] / data.shape[0] * 100,'%')"
   ]
  },
  {
   "cell_type": "markdown",
   "id": "0104e754",
   "metadata": {},
   "source": [
    "### Monthly Sales"
   ]
  },
  {
   "cell_type": "code",
   "execution_count": 90,
   "id": "6da40b03",
   "metadata": {
    "scrolled": true
   },
   "outputs": [
    {
     "data": {
      "image/png": "[encoded data removed]",
      "text/plain": [
       "<Figure size 1080x360 with 1 Axes>"
      ]
     },
     "metadata": {},
     "output_type": "display_data"
    }
   ],
   "source": [
    "sales = pd.DataFrame(data.groupby(['Year_Month'])['Expense'].sum()).reset_index()\n",
    "sales.head()\n",
    "plt.figure(figsize=(15,5))\n",
    "plt.grid(True)\n",
    "ax=sns.barplot(x=sales.Year_Month,y=(sales.Expense)/1000)\n",
    "plt.xlabel('Time(Year-Month format)')\n",
    "plt.ylabel('Sales(x10$^3$)')\n",
    "plt.title('Sales vs Time(year-month)',fontweight=\"bold\")\n",
    "plt.show()"
   ]
  },
  {
   "cell_type": "markdown",
   "id": "cf95d4b5",
   "metadata": {},
   "source": [
    "#### Best month of sales"
   ]
  },
  {
   "cell_type": "markdown",
   "id": "ba76bf34",
   "metadata": {},
   "source": [
    "The sales for the store were the highest for November 2011."
   ]
  },
  {
   "cell_type": "code",
   "execution_count": 24,
   "id": "539615e3",
   "metadata": {},
   "outputs": [
    {
     "name": "stdout",
     "output_type": "stream",
     "text": [
      "Sales made in the month of November 2011: 1161817.3800000001\n"
     ]
    }
   ],
   "source": [
    "print('Sales made in the month of November 2011:',sales.iloc[11,1])"
   ]
  },
  {
   "cell_type": "markdown",
   "id": "8ef03f42",
   "metadata": {},
   "source": [
    "### Customers who purchased the most number of products"
   ]
  },
  {
   "cell_type": "code",
   "execution_count": 25,
   "id": "0b794195",
   "metadata": {},
   "outputs": [
    {
     "data": {
      "text/plain": [
       "Text(0.5, 1.0, 'Customers who bought the most number of products')"
      ]
     },
     "execution_count": 25,
     "metadata": {},
     "output_type": "execute_result"
    },
    {
     "data": {
      "image/png": "[encoded data removed]",
      "text/plain": [
       "<Figure size 576x432 with 1 Axes>"
      ]
     },
     "metadata": {
      "needs_background": "light"
     },
     "output_type": "display_data"
    }
   ],
   "source": [
    "customer = data.CustomerID.value_counts().sort_values(ascending=False) \n",
    "plt.figure(figsize=(8, 6))\n",
    "sns.set_theme(style=\"whitegrid\")\n",
    "sns.barplot(x=customer.iloc[0:10].index, y=customer.iloc[0:10].values, color=\"g\")\n",
    "plt.xticks(rotation=90)\n",
    "plt.ylabel(\"Total number of products purchased\")\n",
    "plt.xlabel(\"CustomerID\")\n",
    "plt.title('Customers who bought the most number of products',fontweight=\"bold\")"
   ]
  },
  {
   "cell_type": "markdown",
   "id": "c1b1f931",
   "metadata": {},
   "source": [
    "From this chart we can see that certain customers like 17841.0,  14911.0, 14096.0 seem to be wholesale retailers who make big purchases from the online retail store."
   ]
  },
  {
   "cell_type": "markdown",
   "id": "3f996e16",
   "metadata": {},
   "source": [
    "### Quantity of products sold every month"
   ]
  },
  {
   "cell_type": "code",
   "execution_count": 26,
   "id": "50517749",
   "metadata": {},
   "outputs": [
    {
     "data": {
      "image/png": "[encoded data removed]",
      "text/plain": [
       "<Figure size 850x425 with 1 Axes>"
      ]
     },
     "metadata": {},
     "output_type": "display_data"
    }
   ],
   "source": [
    "products= pd.DataFrame(data.groupby('Year_Month').Quantity.sum()).reset_index()\n",
    "plt.figure(figsize=(10,5), dpi=85)\n",
    "plt.grid(True)\n",
    "plt.plot(products.Year_Month,products.Quantity,color='r',marker='o')\n",
    "plt.title('Quantity of products sold month wise',fontweight=\"bold\")\n",
    "plt.xlabel('Year-Month')\n",
    "plt.ylabel('Quantity of products sold')\n",
    "plt.show()"
   ]
  },
  {
   "cell_type": "markdown",
   "id": "c4cc20fa",
   "metadata": {},
   "source": [
    "#### Most number of products sold"
   ]
  },
  {
   "cell_type": "markdown",
   "id": "0cacff8d",
   "metadata": {},
   "source": [
    "From the line chart above, we can see that the most number of products were sold in November,2011."
   ]
  },
  {
   "cell_type": "code",
   "execution_count": 27,
   "id": "2f57e7da",
   "metadata": {},
   "outputs": [
    {
     "name": "stdout",
     "output_type": "stream",
     "text": [
      "Total number of products sold in the month of November 2011: 681888\n"
     ]
    }
   ],
   "source": [
    "print('Total number of products sold in the month of November 2011:',products.iloc[11,1])"
   ]
  },
  {
   "cell_type": "markdown",
   "id": "065a9e7a",
   "metadata": {},
   "source": [
    "### Products which are often bought together"
   ]
  },
  {
   "cell_type": "code",
   "execution_count": 98,
   "id": "7ff5e870",
   "metadata": {},
   "outputs": [],
   "source": [
    "new=data[data['InvoiceNo'].duplicated(keep=False)]\n",
    "new.loc[:,'FrequentlyBought']=new.groupby('InvoiceNo')['Description'].transform(lambda s: ','.join(s))\n",
    "new=new[['InvoiceNo','FrequentlyBought']].drop_duplicates()\n",
    "# new=new.reset_index()"
   ]
  },
  {
   "cell_type": "code",
   "execution_count": 32,
   "id": "c7b5495c",
   "metadata": {},
   "outputs": [],
   "source": [
    "c=Counter()\n",
    "for i in new['FrequentlyBought']:\n",
    "    list_rows=i.split(',')\n",
    "    c.update(Counter(combinations(list_rows,2)))\n"
   ]
  },
  {
   "cell_type": "code",
   "execution_count": 33,
   "id": "0e766bba",
   "metadata": {
    "scrolled": true
   },
   "outputs": [
    {
     "data": {
      "text/plain": [
       "[(('KEY FOB ', 'KEY FOB '), 643),\n",
       " (('KEY FOB ', ' BACK DOOR '), 451),\n",
       " (('GREEN REGENCY TEACUP AND SAUCER', 'PINK REGENCY TEACUP AND SAUCER'), 444),\n",
       " (('KEY FOB ', ' SHED'), 425),\n",
       " (('KEY FOB ', ' FRONT  DOOR '), 350),\n",
       " (('LUNCH BAG RED RETROSPOT', 'LUNCH BAG PINK POLKADOT'), 327),\n",
       " (('LUNCH BAG RED RETROSPOT', 'LUNCH BAG  BLACK SKULL.'), 316),\n",
       " (('JUMBO BAG PINK POLKADOT', 'JUMBO BAG RED RETROSPOT'), 315),\n",
       " (('ROSES REGENCY TEACUP AND SAUCER ', 'GREEN REGENCY TEACUP AND SAUCER'),\n",
       "  314),\n",
       " (('GREEN REGENCY TEACUP AND SAUCER', 'ROSES REGENCY TEACUP AND SAUCER '),\n",
       "  304)]"
      ]
     },
     "execution_count": 33,
     "metadata": {},
     "output_type": "execute_result"
    }
   ],
   "source": [
    "c.most_common(10)"
   ]
  },
  {
   "cell_type": "markdown",
   "id": "3a8ad384",
   "metadata": {},
   "source": [
    "From the above list, we can see that key fob is usually purchased with key fob and this has happened 643 times. Also, key fob and back door were the second highest selling product purchased togehter."
   ]
  },
  {
   "cell_type": "markdown",
   "id": "d6e42deb",
   "metadata": {},
   "source": [
    "### Finding the hour of the day at which sales are maximum"
   ]
  },
  {
   "cell_type": "code",
   "execution_count": 34,
   "id": "63005ca8",
   "metadata": {},
   "outputs": [
    {
     "data": {
      "image/png": "[encoded data removed]",
      "text/plain": [
       "<Figure size 648x432 with 1 Axes>"
      ]
     },
     "metadata": {},
     "output_type": "display_data"
    }
   ],
   "source": [
    "data['Hour']=data['InvoiceDate'].dt.hour\n",
    "hourly=data.groupby(['Hour']).Quantity.count()\n",
    "hourdata=[hour for hour, df in data.groupby('Hour') ]\n",
    "plt.figure(figsize=(9, 6))\n",
    "sns.lineplot(x=hourdata,y=hourly,palette=\"flare\")\n",
    "plt.xticks(hourdata)\n",
    "plt.grid(True)\n",
    "plt.title('Number of orders placed vs Time(in 24 hour format)',fontweight=\"bold\")\n",
    "plt.xlabel('Time in 24 hour format')\n",
    "plt.ylabel('Number of orders placed')\n",
    "plt.show()"
   ]
  },
  {
   "cell_type": "markdown",
   "id": "bf3986ec",
   "metadata": {},
   "source": [
    "From the above plot it can be seen that the sales are highest at 12 PM and lowest from 8 PM to 7 AM.A second peak in sales is observed at 3 PM.\n",
    "\n",
    "The retail store can utilize this by advertising about the products a little early before the sales begin to rise. Approximately around 10 AM, it can start the advertisement on various platforms. The advertisements can be shown again before there is a second peak of sales, i.e. around 2:30 PM."
   ]
  },
  {
   "cell_type": "markdown",
   "id": "3069dfae",
   "metadata": {},
   "source": [
    "### Product that was sold the most"
   ]
  },
  {
   "cell_type": "code",
   "execution_count": 35,
   "id": "af82878e",
   "metadata": {
    "scrolled": true
   },
   "outputs": [],
   "source": [
    "mostsold=pd.DataFrame(data.groupby('Description').agg({'Quantity': lambda s: s.sum()}))\n",
    "mostsold=mostsold.sort_values(by=['Quantity'],ascending=False)\n",
    "mostsold=mostsold.reset_index()"
   ]
  },
  {
   "cell_type": "markdown",
   "id": "8bd8f548",
   "metadata": {},
   "source": [
    "#### List of 10 highest selling products"
   ]
  },
  {
   "cell_type": "code",
   "execution_count": 36,
   "id": "9cd9e517",
   "metadata": {},
   "outputs": [
    {
     "data": {
      "text/html": [
       "<div>\n",
       "<style scoped>\n",
       "    .dataframe tbody tr th:only-of-type {\n",
       "        vertical-align: middle;\n",
       "    }\n",
       "\n",
       "    .dataframe tbody tr th {\n",
       "        vertical-align: top;\n",
       "    }\n",
       "\n",
       "    .dataframe thead th {\n",
       "        text-align: right;\n",
       "    }\n",
       "</style>\n",
       "<table border=\"1\" class=\"dataframe\">\n",
       "  <thead>\n",
       "    <tr style=\"text-align: right;\">\n",
       "      <th></th>\n",
       "      <th>Description</th>\n",
       "      <th>Quantity</th>\n",
       "    </tr>\n",
       "  </thead>\n",
       "  <tbody>\n",
       "    <tr>\n",
       "      <th>0</th>\n",
       "      <td>PAPER CRAFT , LITTLE BIRDIE</td>\n",
       "      <td>80995</td>\n",
       "    </tr>\n",
       "    <tr>\n",
       "      <th>1</th>\n",
       "      <td>MEDIUM CERAMIC TOP STORAGE JAR</td>\n",
       "      <td>77916</td>\n",
       "    </tr>\n",
       "    <tr>\n",
       "      <th>2</th>\n",
       "      <td>WORLD WAR 2 GLIDERS ASSTD DESIGNS</td>\n",
       "      <td>54415</td>\n",
       "    </tr>\n",
       "    <tr>\n",
       "      <th>3</th>\n",
       "      <td>JUMBO BAG RED RETROSPOT</td>\n",
       "      <td>46181</td>\n",
       "    </tr>\n",
       "    <tr>\n",
       "      <th>4</th>\n",
       "      <td>WHITE HANGING HEART T-LIGHT HOLDER</td>\n",
       "      <td>36725</td>\n",
       "    </tr>\n",
       "    <tr>\n",
       "      <th>5</th>\n",
       "      <td>ASSORTED COLOUR BIRD ORNAMENT</td>\n",
       "      <td>35362</td>\n",
       "    </tr>\n",
       "    <tr>\n",
       "      <th>6</th>\n",
       "      <td>PACK OF 72 RETROSPOT CAKE CASES</td>\n",
       "      <td>33693</td>\n",
       "    </tr>\n",
       "    <tr>\n",
       "      <th>7</th>\n",
       "      <td>POPCORN HOLDER</td>\n",
       "      <td>30931</td>\n",
       "    </tr>\n",
       "    <tr>\n",
       "      <th>8</th>\n",
       "      <td>RABBIT NIGHT LIGHT</td>\n",
       "      <td>27202</td>\n",
       "    </tr>\n",
       "    <tr>\n",
       "      <th>9</th>\n",
       "      <td>MINI PAINT SET VINTAGE</td>\n",
       "      <td>26076</td>\n",
       "    </tr>\n",
       "  </tbody>\n",
       "</table>\n",
       "</div>"
      ],
      "text/plain": [
       "                          Description  Quantity\n",
       "0         PAPER CRAFT , LITTLE BIRDIE     80995\n",
       "1      MEDIUM CERAMIC TOP STORAGE JAR     77916\n",
       "2   WORLD WAR 2 GLIDERS ASSTD DESIGNS     54415\n",
       "3             JUMBO BAG RED RETROSPOT     46181\n",
       "4  WHITE HANGING HEART T-LIGHT HOLDER     36725\n",
       "5       ASSORTED COLOUR BIRD ORNAMENT     35362\n",
       "6     PACK OF 72 RETROSPOT CAKE CASES     33693\n",
       "7                      POPCORN HOLDER     30931\n",
       "8                  RABBIT NIGHT LIGHT     27202\n",
       "9             MINI PAINT SET VINTAGE      26076"
      ]
     },
     "execution_count": 36,
     "metadata": {},
     "output_type": "execute_result"
    }
   ],
   "source": [
    "mostsold.head(10)"
   ]
  },
  {
   "cell_type": "markdown",
   "id": "31e4576d",
   "metadata": {},
   "source": [
    "#### List of 10 least selling products"
   ]
  },
  {
   "cell_type": "code",
   "execution_count": 37,
   "id": "9dce8ad8",
   "metadata": {
    "scrolled": false
   },
   "outputs": [
    {
     "data": {
      "text/html": [
       "<div>\n",
       "<style scoped>\n",
       "    .dataframe tbody tr th:only-of-type {\n",
       "        vertical-align: middle;\n",
       "    }\n",
       "\n",
       "    .dataframe tbody tr th {\n",
       "        vertical-align: top;\n",
       "    }\n",
       "\n",
       "    .dataframe thead th {\n",
       "        text-align: right;\n",
       "    }\n",
       "</style>\n",
       "<table border=\"1\" class=\"dataframe\">\n",
       "  <thead>\n",
       "    <tr style=\"text-align: right;\">\n",
       "      <th></th>\n",
       "      <th>Description</th>\n",
       "      <th>Quantity</th>\n",
       "    </tr>\n",
       "  </thead>\n",
       "  <tbody>\n",
       "    <tr>\n",
       "      <th>3867</th>\n",
       "      <td>SILVER AND BLACK ORBIT NECKLACE</td>\n",
       "      <td>1</td>\n",
       "    </tr>\n",
       "    <tr>\n",
       "      <th>3868</th>\n",
       "      <td>ORANGE FELT VASE + FLOWERS</td>\n",
       "      <td>1</td>\n",
       "    </tr>\n",
       "    <tr>\n",
       "      <th>3869</th>\n",
       "      <td>CRACKED GLAZE EARRINGS RED</td>\n",
       "      <td>1</td>\n",
       "    </tr>\n",
       "    <tr>\n",
       "      <th>3870</th>\n",
       "      <td>CRACKED GLAZE EARRINGS BROWN</td>\n",
       "      <td>1</td>\n",
       "    </tr>\n",
       "    <tr>\n",
       "      <th>3871</th>\n",
       "      <td>PACK 4 FLOWER/BUTTERFLY PATCHES</td>\n",
       "      <td>1</td>\n",
       "    </tr>\n",
       "    <tr>\n",
       "      <th>3872</th>\n",
       "      <td>BLACK VINT ART DEC CRYSTAL BRACELET</td>\n",
       "      <td>1</td>\n",
       "    </tr>\n",
       "    <tr>\n",
       "      <th>3873</th>\n",
       "      <td>FLOWER SHOP DESIGN MUG</td>\n",
       "      <td>1</td>\n",
       "    </tr>\n",
       "    <tr>\n",
       "      <th>3874</th>\n",
       "      <td>SET 36 COLOURING PENCILS DOILEY</td>\n",
       "      <td>1</td>\n",
       "    </tr>\n",
       "    <tr>\n",
       "      <th>3875</th>\n",
       "      <td>HEN HOUSE W CHICK IN NEST</td>\n",
       "      <td>1</td>\n",
       "    </tr>\n",
       "    <tr>\n",
       "      <th>3876</th>\n",
       "      <td>AMBER BERTIE GLASS BEAD BAG CHARM</td>\n",
       "      <td>1</td>\n",
       "    </tr>\n",
       "  </tbody>\n",
       "</table>\n",
       "</div>"
      ],
      "text/plain": [
       "                              Description  Quantity\n",
       "3867      SILVER AND BLACK ORBIT NECKLACE         1\n",
       "3868           ORANGE FELT VASE + FLOWERS         1\n",
       "3869           CRACKED GLAZE EARRINGS RED         1\n",
       "3870         CRACKED GLAZE EARRINGS BROWN         1\n",
       "3871      PACK 4 FLOWER/BUTTERFLY PATCHES         1\n",
       "3872  BLACK VINT ART DEC CRYSTAL BRACELET         1\n",
       "3873               FLOWER SHOP DESIGN MUG         1\n",
       "3874      SET 36 COLOURING PENCILS DOILEY         1\n",
       "3875            HEN HOUSE W CHICK IN NEST         1\n",
       "3876    AMBER BERTIE GLASS BEAD BAG CHARM         1"
      ]
     },
     "execution_count": 37,
     "metadata": {},
     "output_type": "execute_result"
    }
   ],
   "source": [
    "mostsold.tail(10)"
   ]
  },
  {
   "cell_type": "markdown",
   "id": "fe40c13b",
   "metadata": {},
   "source": [
    "             "
   ]
  },
  {
   "cell_type": "markdown",
   "id": "c95068d1",
   "metadata": {},
   "source": [
    "There are different ways to analyse and find a technique to segment customers like custom (as per business model requirements), RFM Analysis, Pareto cut,etc. Here, RFM Analysis is used to segment customers into different clusters."
   ]
  },
  {
   "cell_type": "markdown",
   "id": "28660d23",
   "metadata": {},
   "source": [
    "## RFM Analysis"
   ]
  },
  {
   "cell_type": "markdown",
   "id": "e2c11389",
   "metadata": {},
   "source": [
    "RFM Analysis is a technique used by companies to segment their customers into different clusters based on 3 main parameters: Recency, Frequency and Monetary. Based on these parameters a score is assigned to each customer and is alloted a cluster. Using this method, companies can segment customers and understand their purchasing patterns for target advertising. Thus, marketing campaigns can be tailored as per the customer and resources can be saved."
   ]
  },
  {
   "cell_type": "markdown",
   "id": "623e663f",
   "metadata": {},
   "source": [
    "### Recency"
   ]
  },
  {
   "cell_type": "markdown",
   "id": "6ea4a5b6",
   "metadata": {},
   "source": [
    "Recency takes into account the customer's past purchase with respect to the first purchase. It means that a customer .In this case, Recency is measured in terms of days. A customer who has made a purchase recently is more likely to come in future for another purchase."
   ]
  },
  {
   "cell_type": "code",
   "execution_count": 38,
   "id": "1026254a",
   "metadata": {},
   "outputs": [
    {
     "name": "stdout",
     "output_type": "stream",
     "text": [
      "The data collection begins from date:  2011-12-09 12:50:00\n",
      "The data collection ends on date: 2010-12-01 08:26:00\n"
     ]
    }
   ],
   "source": [
    "print('The data collection begins from date: ',data.InvoiceDate.max())\n",
    "print('The data collection ends on date:',data.InvoiceDate.min())"
   ]
  },
  {
   "cell_type": "markdown",
   "id": "7cd53907",
   "metadata": {},
   "source": [
    "In all the cases, i.e. Recency, Frequency and Monetary, the time period we will consider begins from 2011-12-09 12:50:00 till 2010-12-01 08:26:00. "
   ]
  },
  {
   "cell_type": "code",
   "execution_count": 39,
   "id": "0f554db0",
   "metadata": {},
   "outputs": [],
   "source": [
    "end=data.InvoiceDate.max().date()\n",
    "recency =data.groupby('CustomerID').agg({'Date':lambda s: (end - s.max()).days})"
   ]
  },
  {
   "cell_type": "markdown",
   "id": "8a2f754d",
   "metadata": {},
   "source": [
    "### Frequency"
   ]
  },
  {
   "cell_type": "markdown",
   "id": "7efd58d9",
   "metadata": {},
   "source": [
    "Frequency is used to observe how frequently a customer purchases items from the company in particular period of time. This can be found by calculating the total number of transactions of each customer."
   ]
  },
  {
   "cell_type": "code",
   "execution_count": 40,
   "id": "2d30af5c",
   "metadata": {},
   "outputs": [],
   "source": [
    "freq= data.groupby('CustomerID').agg({'InvoiceNo': lambda x:len(x)})"
   ]
  },
  {
   "cell_type": "markdown",
   "id": "9023a3c1",
   "metadata": {},
   "source": [
    "### Monetary"
   ]
  },
  {
   "cell_type": "markdown",
   "id": "2fe3f62a",
   "metadata": {},
   "source": [
    "Monetary is used to indicate the amount that a customer spends by purchasing items at the retail store during a fixed period of time. It can be found by calculating the total amount spent by a customer in all his purchases."
   ]
  },
  {
   "cell_type": "code",
   "execution_count": 41,
   "id": "fa3753f1",
   "metadata": {},
   "outputs": [],
   "source": [
    "monetary=data.groupby('CustomerID').agg({'Expense': lambda s: s.sum()})"
   ]
  },
  {
   "cell_type": "markdown",
   "id": "fd34502f",
   "metadata": {},
   "source": [
    "### RFM Table"
   ]
  },
  {
   "cell_type": "code",
   "execution_count": 42,
   "id": "4e2ea4a3",
   "metadata": {},
   "outputs": [],
   "source": [
    "rf=pd.merge(recency,freq, on='CustomerID')# merging Recency and Frequency first based on CustomerID\n",
    "rfm=pd.merge(rf,monetary, on='CustomerID')#merging Recency, Frequency together with Monetary based on CustomerID"
   ]
  },
  {
   "cell_type": "code",
   "execution_count": 43,
   "id": "80a34a98",
   "metadata": {
    "scrolled": true
   },
   "outputs": [],
   "source": [
    "rfm.rename(columns= {'Date': 'Recency','InvoiceNo': 'Frequency','Expense': 'Monetary'}, inplace= True)# renaming columns"
   ]
  },
  {
   "cell_type": "code",
   "execution_count": 44,
   "id": "a8013d0c",
   "metadata": {},
   "outputs": [
    {
     "data": {
      "text/html": [
       "<div>\n",
       "<style scoped>\n",
       "    .dataframe tbody tr th:only-of-type {\n",
       "        vertical-align: middle;\n",
       "    }\n",
       "\n",
       "    .dataframe tbody tr th {\n",
       "        vertical-align: top;\n",
       "    }\n",
       "\n",
       "    .dataframe thead th {\n",
       "        text-align: right;\n",
       "    }\n",
       "</style>\n",
       "<table border=\"1\" class=\"dataframe\">\n",
       "  <thead>\n",
       "    <tr style=\"text-align: right;\">\n",
       "      <th></th>\n",
       "      <th>Recency</th>\n",
       "      <th>Frequency</th>\n",
       "      <th>Monetary</th>\n",
       "    </tr>\n",
       "    <tr>\n",
       "      <th>CustomerID</th>\n",
       "      <th></th>\n",
       "      <th></th>\n",
       "      <th></th>\n",
       "    </tr>\n",
       "  </thead>\n",
       "  <tbody>\n",
       "    <tr>\n",
       "      <th>12346.0</th>\n",
       "      <td>325</td>\n",
       "      <td>1</td>\n",
       "      <td>77183.60</td>\n",
       "    </tr>\n",
       "    <tr>\n",
       "      <th>12347.0</th>\n",
       "      <td>2</td>\n",
       "      <td>182</td>\n",
       "      <td>4310.00</td>\n",
       "    </tr>\n",
       "    <tr>\n",
       "      <th>12348.0</th>\n",
       "      <td>75</td>\n",
       "      <td>31</td>\n",
       "      <td>1797.24</td>\n",
       "    </tr>\n",
       "    <tr>\n",
       "      <th>12349.0</th>\n",
       "      <td>18</td>\n",
       "      <td>73</td>\n",
       "      <td>1757.55</td>\n",
       "    </tr>\n",
       "    <tr>\n",
       "      <th>12350.0</th>\n",
       "      <td>310</td>\n",
       "      <td>17</td>\n",
       "      <td>334.40</td>\n",
       "    </tr>\n",
       "  </tbody>\n",
       "</table>\n",
       "</div>"
      ],
      "text/plain": [
       "            Recency  Frequency  Monetary\n",
       "CustomerID                              \n",
       "12346.0         325          1  77183.60\n",
       "12347.0           2        182   4310.00\n",
       "12348.0          75         31   1797.24\n",
       "12349.0          18         73   1757.55\n",
       "12350.0         310         17    334.40"
      ]
     },
     "execution_count": 44,
     "metadata": {},
     "output_type": "execute_result"
    }
   ],
   "source": [
    "rfm.head()"
   ]
  },
  {
   "cell_type": "markdown",
   "id": "606c212b",
   "metadata": {},
   "source": [
    "#### Verifying the RFM table"
   ]
  },
  {
   "cell_type": "code",
   "execution_count": 45,
   "id": "69d1e53b",
   "metadata": {
    "scrolled": true
   },
   "outputs": [
    {
     "data": {
      "text/html": [
       "<div>\n",
       "<style scoped>\n",
       "    .dataframe tbody tr th:only-of-type {\n",
       "        vertical-align: middle;\n",
       "    }\n",
       "\n",
       "    .dataframe tbody tr th {\n",
       "        vertical-align: top;\n",
       "    }\n",
       "\n",
       "    .dataframe thead th {\n",
       "        text-align: right;\n",
       "    }\n",
       "</style>\n",
       "<table border=\"1\" class=\"dataframe\">\n",
       "  <thead>\n",
       "    <tr style=\"text-align: right;\">\n",
       "      <th></th>\n",
       "      <th>InvoiceNo</th>\n",
       "      <th>StockCode</th>\n",
       "      <th>Description</th>\n",
       "      <th>Quantity</th>\n",
       "      <th>InvoiceDate</th>\n",
       "      <th>UnitPrice</th>\n",
       "      <th>CustomerID</th>\n",
       "      <th>Country</th>\n",
       "      <th>Year_Month</th>\n",
       "      <th>Expense</th>\n",
       "      <th>Date</th>\n",
       "      <th>Hour</th>\n",
       "    </tr>\n",
       "  </thead>\n",
       "  <tbody>\n",
       "    <tr>\n",
       "      <th>61619</th>\n",
       "      <td>541431</td>\n",
       "      <td>23166</td>\n",
       "      <td>MEDIUM CERAMIC TOP STORAGE JAR</td>\n",
       "      <td>74215</td>\n",
       "      <td>2011-01-18 10:01:00</td>\n",
       "      <td>1.04</td>\n",
       "      <td>12346.0</td>\n",
       "      <td>United Kingdom</td>\n",
       "      <td>2011-01</td>\n",
       "      <td>77183.6</td>\n",
       "      <td>2011-01-18</td>\n",
       "      <td>10</td>\n",
       "    </tr>\n",
       "  </tbody>\n",
       "</table>\n",
       "</div>"
      ],
      "text/plain": [
       "      InvoiceNo StockCode                     Description  Quantity  \\\n",
       "61619    541431     23166  MEDIUM CERAMIC TOP STORAGE JAR     74215   \n",
       "\n",
       "              InvoiceDate  UnitPrice  CustomerID         Country Year_Month  \\\n",
       "61619 2011-01-18 10:01:00       1.04     12346.0  United Kingdom    2011-01   \n",
       "\n",
       "       Expense        Date  Hour  \n",
       "61619  77183.6  2011-01-18    10  "
      ]
     },
     "execution_count": 45,
     "metadata": {},
     "output_type": "execute_result"
    }
   ],
   "source": [
    "data[data['CustomerID']==12346.0]#verifying the entry for CustomerID=12346.0"
   ]
  },
  {
   "cell_type": "markdown",
   "id": "f5b1d884",
   "metadata": {},
   "source": [
    "We can see that for CustomerID=12346.0 there has only been one trasaction which shows that our RFM table values are correct."
   ]
  },
  {
   "cell_type": "code",
   "execution_count": 46,
   "id": "04a50f0a",
   "metadata": {},
   "outputs": [],
   "source": [
    "rfm2 = rfm.copy()"
   ]
  },
  {
   "cell_type": "markdown",
   "id": "1e350ca4",
   "metadata": {},
   "source": [
    "RScore, FScore and MScore is calculated by segmenting Recency, Frequency and Monetary respectively into quantiles. This would help in ranking customers based on their score. \n",
    "\n",
    "An integer score ranging from 1 to 4 is assigned to each customer for each of the three parameters Recency, Frequency and Monetary.1 indicates the highest score and 4 indicates the lowest score.\n",
    "\n",
    "In case of recency, customer receiving a low RScore such as 1 would make them the best customer. Also, customers with high FScore and high MScore are considered to be the best customers."
   ]
  },
  {
   "cell_type": "code",
   "execution_count": 47,
   "id": "f826afbe",
   "metadata": {},
   "outputs": [],
   "source": [
    "rfm2[\"RScore\"] = pd.cut(rfm2[\"Recency\"], bins=[-1, np.percentile(rfm2[\"Recency\"], 25), \n",
    " np.percentile(rfm2[\"Recency\"], 50),np.percentile(rfm2[\"Recency\"], 75), rfm2[\"Recency\"].max()],labels=[1, 2, 3, 4]).astype(\"int\")"
   ]
  },
  {
   "cell_type": "code",
   "execution_count": 48,
   "id": "98b68d57",
   "metadata": {},
   "outputs": [],
   "source": [
    "rfm2[\"FScore\"] = pd.cut(rfm2[\"Frequency\"], bins=[-1, np.percentile(rfm2[\"Frequency\"], 25), \n",
    " np.percentile(rfm2[\"Frequency\"], 50),np.percentile(rfm2[\"Frequency\"], 75), rfm2[\"Frequency\"].max()],labels=[4,3,2,1]).astype(\"int\")"
   ]
  },
  {
   "cell_type": "code",
   "execution_count": 49,
   "id": "af90ebcb",
   "metadata": {},
   "outputs": [],
   "source": [
    "rfm2[\"MScore\"] = pd.cut(rfm2[\"Monetary\"], bins=[-1, np.percentile(rfm2[\"Monetary\"], 25), \n",
    " np.percentile(rfm2[\"Monetary\"], 50),np.percentile(rfm2[\"Monetary\"], 75), rfm2[\"Monetary\"].max()],labels=[4,3,2,1]).astype(\"int\")"
   ]
  },
  {
   "cell_type": "code",
   "execution_count": 50,
   "id": "4eb6a20f",
   "metadata": {},
   "outputs": [
    {
     "data": {
      "text/html": [
       "<div>\n",
       "<style scoped>\n",
       "    .dataframe tbody tr th:only-of-type {\n",
       "        vertical-align: middle;\n",
       "    }\n",
       "\n",
       "    .dataframe tbody tr th {\n",
       "        vertical-align: top;\n",
       "    }\n",
       "\n",
       "    .dataframe thead th {\n",
       "        text-align: right;\n",
       "    }\n",
       "</style>\n",
       "<table border=\"1\" class=\"dataframe\">\n",
       "  <thead>\n",
       "    <tr style=\"text-align: right;\">\n",
       "      <th></th>\n",
       "      <th>CustomerID</th>\n",
       "      <th>Recency</th>\n",
       "      <th>Frequency</th>\n",
       "      <th>Monetary</th>\n",
       "      <th>RScore</th>\n",
       "      <th>FScore</th>\n",
       "      <th>MScore</th>\n",
       "    </tr>\n",
       "  </thead>\n",
       "  <tbody>\n",
       "    <tr>\n",
       "      <th>0</th>\n",
       "      <td>12346.0</td>\n",
       "      <td>325</td>\n",
       "      <td>1</td>\n",
       "      <td>77183.60</td>\n",
       "      <td>4</td>\n",
       "      <td>4</td>\n",
       "      <td>1</td>\n",
       "    </tr>\n",
       "    <tr>\n",
       "      <th>1</th>\n",
       "      <td>12347.0</td>\n",
       "      <td>2</td>\n",
       "      <td>182</td>\n",
       "      <td>4310.00</td>\n",
       "      <td>1</td>\n",
       "      <td>1</td>\n",
       "      <td>1</td>\n",
       "    </tr>\n",
       "    <tr>\n",
       "      <th>2</th>\n",
       "      <td>12348.0</td>\n",
       "      <td>75</td>\n",
       "      <td>31</td>\n",
       "      <td>1797.24</td>\n",
       "      <td>3</td>\n",
       "      <td>3</td>\n",
       "      <td>1</td>\n",
       "    </tr>\n",
       "    <tr>\n",
       "      <th>3</th>\n",
       "      <td>12349.0</td>\n",
       "      <td>18</td>\n",
       "      <td>73</td>\n",
       "      <td>1757.55</td>\n",
       "      <td>2</td>\n",
       "      <td>2</td>\n",
       "      <td>1</td>\n",
       "    </tr>\n",
       "    <tr>\n",
       "      <th>4</th>\n",
       "      <td>12350.0</td>\n",
       "      <td>310</td>\n",
       "      <td>17</td>\n",
       "      <td>334.40</td>\n",
       "      <td>4</td>\n",
       "      <td>4</td>\n",
       "      <td>3</td>\n",
       "    </tr>\n",
       "  </tbody>\n",
       "</table>\n",
       "</div>"
      ],
      "text/plain": [
       "   CustomerID  Recency  Frequency  Monetary  RScore  FScore  MScore\n",
       "0     12346.0      325          1  77183.60       4       4       1\n",
       "1     12347.0        2        182   4310.00       1       1       1\n",
       "2     12348.0       75         31   1797.24       3       3       1\n",
       "3     12349.0       18         73   1757.55       2       2       1\n",
       "4     12350.0      310         17    334.40       4       4       3"
      ]
     },
     "execution_count": 50,
     "metadata": {},
     "output_type": "execute_result"
    }
   ],
   "source": [
    "rfm2=rfm2.reset_index()\n",
    "rfm2.head()"
   ]
  },
  {
   "cell_type": "markdown",
   "id": "3566d5ce",
   "metadata": {},
   "source": [
    "RFMValue is calculated to see segmented RFM value.\n",
    "RFMScore is calculated as the sum of RScore, FScore and MScore."
   ]
  },
  {
   "cell_type": "code",
   "execution_count": 51,
   "id": "b4baf5cf",
   "metadata": {},
   "outputs": [
    {
     "data": {
      "text/html": [
       "<div>\n",
       "<style scoped>\n",
       "    .dataframe tbody tr th:only-of-type {\n",
       "        vertical-align: middle;\n",
       "    }\n",
       "\n",
       "    .dataframe tbody tr th {\n",
       "        vertical-align: top;\n",
       "    }\n",
       "\n",
       "    .dataframe thead th {\n",
       "        text-align: right;\n",
       "    }\n",
       "</style>\n",
       "<table border=\"1\" class=\"dataframe\">\n",
       "  <thead>\n",
       "    <tr style=\"text-align: right;\">\n",
       "      <th></th>\n",
       "      <th>index</th>\n",
       "      <th>CustomerID</th>\n",
       "      <th>Recency</th>\n",
       "      <th>Frequency</th>\n",
       "      <th>Monetary</th>\n",
       "      <th>RScore</th>\n",
       "      <th>FScore</th>\n",
       "      <th>MScore</th>\n",
       "      <th>RFMValue</th>\n",
       "      <th>RFMScore</th>\n",
       "    </tr>\n",
       "  </thead>\n",
       "  <tbody>\n",
       "    <tr>\n",
       "      <th>0</th>\n",
       "      <td>0</td>\n",
       "      <td>12346.0</td>\n",
       "      <td>325</td>\n",
       "      <td>1</td>\n",
       "      <td>77183.60</td>\n",
       "      <td>4</td>\n",
       "      <td>4</td>\n",
       "      <td>1</td>\n",
       "      <td>441</td>\n",
       "      <td>9</td>\n",
       "    </tr>\n",
       "    <tr>\n",
       "      <th>1</th>\n",
       "      <td>1</td>\n",
       "      <td>12347.0</td>\n",
       "      <td>2</td>\n",
       "      <td>182</td>\n",
       "      <td>4310.00</td>\n",
       "      <td>1</td>\n",
       "      <td>1</td>\n",
       "      <td>1</td>\n",
       "      <td>111</td>\n",
       "      <td>3</td>\n",
       "    </tr>\n",
       "    <tr>\n",
       "      <th>2</th>\n",
       "      <td>2</td>\n",
       "      <td>12348.0</td>\n",
       "      <td>75</td>\n",
       "      <td>31</td>\n",
       "      <td>1797.24</td>\n",
       "      <td>3</td>\n",
       "      <td>3</td>\n",
       "      <td>1</td>\n",
       "      <td>331</td>\n",
       "      <td>7</td>\n",
       "    </tr>\n",
       "    <tr>\n",
       "      <th>3</th>\n",
       "      <td>3</td>\n",
       "      <td>12349.0</td>\n",
       "      <td>18</td>\n",
       "      <td>73</td>\n",
       "      <td>1757.55</td>\n",
       "      <td>2</td>\n",
       "      <td>2</td>\n",
       "      <td>1</td>\n",
       "      <td>221</td>\n",
       "      <td>5</td>\n",
       "    </tr>\n",
       "    <tr>\n",
       "      <th>4</th>\n",
       "      <td>4</td>\n",
       "      <td>12350.0</td>\n",
       "      <td>310</td>\n",
       "      <td>17</td>\n",
       "      <td>334.40</td>\n",
       "      <td>4</td>\n",
       "      <td>4</td>\n",
       "      <td>3</td>\n",
       "      <td>443</td>\n",
       "      <td>11</td>\n",
       "    </tr>\n",
       "  </tbody>\n",
       "</table>\n",
       "</div>"
      ],
      "text/plain": [
       "   index  CustomerID  Recency  Frequency  Monetary  RScore  FScore  MScore  \\\n",
       "0      0     12346.0      325          1  77183.60       4       4       1   \n",
       "1      1     12347.0        2        182   4310.00       1       1       1   \n",
       "2      2     12348.0       75         31   1797.24       3       3       1   \n",
       "3      3     12349.0       18         73   1757.55       2       2       1   \n",
       "4      4     12350.0      310         17    334.40       4       4       3   \n",
       "\n",
       "  RFMValue  RFMScore  \n",
       "0      441         9  \n",
       "1      111         3  \n",
       "2      331         7  \n",
       "3      221         5  \n",
       "4      443        11  "
      ]
     },
     "execution_count": 51,
     "metadata": {},
     "output_type": "execute_result"
    }
   ],
   "source": [
    "rfm2['RFMValue'] = rfm2.RScore.astype(str)  + rfm2.FScore.astype(str)  + rfm2.MScore.astype(str)\n",
    "rfm2['RFMScore'] = rfm2.RScore  + rfm2.FScore  + rfm2.MScore\n",
    "rfm2=rfm2.reset_index()\n",
    "rfm2.head()"
   ]
  },
  {
   "cell_type": "markdown",
   "id": "e1512b93",
   "metadata": {},
   "source": [
    "#### Assigning membership to each customer"
   ]
  },
  {
   "cell_type": "markdown",
   "id": "65420c1f",
   "metadata": {},
   "source": [
    "Based on the RFMScore each customer can be assigned one of the 4 membership levels: Basic, Gold, Silver and Platinum. A low RFM Score denotes a Platinum membership for the customer and a high RFM Score indicates a Basic membership for the customer. Between Platinum and Basic, two other levels of membership named Gold and Silver are offered on the basis of RFM Score."
   ]
  },
  {
   "cell_type": "code",
   "execution_count": 52,
   "id": "3431dc1f",
   "metadata": {
    "scrolled": true
   },
   "outputs": [],
   "source": [
    "def membership(val):\n",
    "    if val >9:\n",
    "        return 'Basic'# lowest membership level that can be given to a customer\n",
    "    elif (val>6) & (val<=9):\n",
    "        return 'Gold'\n",
    "    elif (val>3) & (val<=6):\n",
    "        return 'Silver'\n",
    "    elif (val>0) & (val<=3):\n",
    "        return 'Platinum' #highest membership level that can be given to a customer"
   ]
  },
  {
   "cell_type": "code",
   "execution_count": 53,
   "id": "86950701",
   "metadata": {},
   "outputs": [
    {
     "data": {
      "text/html": [
       "<div>\n",
       "<style scoped>\n",
       "    .dataframe tbody tr th:only-of-type {\n",
       "        vertical-align: middle;\n",
       "    }\n",
       "\n",
       "    .dataframe tbody tr th {\n",
       "        vertical-align: top;\n",
       "    }\n",
       "\n",
       "    .dataframe thead th {\n",
       "        text-align: right;\n",
       "    }\n",
       "</style>\n",
       "<table border=\"1\" class=\"dataframe\">\n",
       "  <thead>\n",
       "    <tr style=\"text-align: right;\">\n",
       "      <th></th>\n",
       "      <th>index</th>\n",
       "      <th>CustomerID</th>\n",
       "      <th>Recency</th>\n",
       "      <th>Frequency</th>\n",
       "      <th>Monetary</th>\n",
       "      <th>RScore</th>\n",
       "      <th>FScore</th>\n",
       "      <th>MScore</th>\n",
       "      <th>RFMValue</th>\n",
       "      <th>RFMScore</th>\n",
       "      <th>Membership</th>\n",
       "    </tr>\n",
       "  </thead>\n",
       "  <tbody>\n",
       "    <tr>\n",
       "      <th>0</th>\n",
       "      <td>0</td>\n",
       "      <td>12346.0</td>\n",
       "      <td>325</td>\n",
       "      <td>1</td>\n",
       "      <td>77183.60</td>\n",
       "      <td>4</td>\n",
       "      <td>4</td>\n",
       "      <td>1</td>\n",
       "      <td>441</td>\n",
       "      <td>9</td>\n",
       "      <td>Gold</td>\n",
       "    </tr>\n",
       "    <tr>\n",
       "      <th>1</th>\n",
       "      <td>1</td>\n",
       "      <td>12347.0</td>\n",
       "      <td>2</td>\n",
       "      <td>182</td>\n",
       "      <td>4310.00</td>\n",
       "      <td>1</td>\n",
       "      <td>1</td>\n",
       "      <td>1</td>\n",
       "      <td>111</td>\n",
       "      <td>3</td>\n",
       "      <td>Platinum</td>\n",
       "    </tr>\n",
       "    <tr>\n",
       "      <th>2</th>\n",
       "      <td>2</td>\n",
       "      <td>12348.0</td>\n",
       "      <td>75</td>\n",
       "      <td>31</td>\n",
       "      <td>1797.24</td>\n",
       "      <td>3</td>\n",
       "      <td>3</td>\n",
       "      <td>1</td>\n",
       "      <td>331</td>\n",
       "      <td>7</td>\n",
       "      <td>Gold</td>\n",
       "    </tr>\n",
       "    <tr>\n",
       "      <th>3</th>\n",
       "      <td>3</td>\n",
       "      <td>12349.0</td>\n",
       "      <td>18</td>\n",
       "      <td>73</td>\n",
       "      <td>1757.55</td>\n",
       "      <td>2</td>\n",
       "      <td>2</td>\n",
       "      <td>1</td>\n",
       "      <td>221</td>\n",
       "      <td>5</td>\n",
       "      <td>Silver</td>\n",
       "    </tr>\n",
       "    <tr>\n",
       "      <th>4</th>\n",
       "      <td>4</td>\n",
       "      <td>12350.0</td>\n",
       "      <td>310</td>\n",
       "      <td>17</td>\n",
       "      <td>334.40</td>\n",
       "      <td>4</td>\n",
       "      <td>4</td>\n",
       "      <td>3</td>\n",
       "      <td>443</td>\n",
       "      <td>11</td>\n",
       "      <td>Basic</td>\n",
       "    </tr>\n",
       "  </tbody>\n",
       "</table>\n",
       "</div>"
      ],
      "text/plain": [
       "   index  CustomerID  Recency  Frequency  Monetary  RScore  FScore  MScore  \\\n",
       "0      0     12346.0      325          1  77183.60       4       4       1   \n",
       "1      1     12347.0        2        182   4310.00       1       1       1   \n",
       "2      2     12348.0       75         31   1797.24       3       3       1   \n",
       "3      3     12349.0       18         73   1757.55       2       2       1   \n",
       "4      4     12350.0      310         17    334.40       4       4       3   \n",
       "\n",
       "  RFMValue  RFMScore Membership  \n",
       "0      441         9       Gold  \n",
       "1      111         3   Platinum  \n",
       "2      331         7       Gold  \n",
       "3      221         5     Silver  \n",
       "4      443        11      Basic  "
      ]
     },
     "execution_count": 53,
     "metadata": {},
     "output_type": "execute_result"
    }
   ],
   "source": [
    "rfm2['Membership']=rfm2['RFMScore'].apply(membership)# assigning membership\n",
    "rfm2.head()"
   ]
  },
  {
   "cell_type": "markdown",
   "id": "dc99ce80",
   "metadata": {},
   "source": [
    "#### Customer Segmentation"
   ]
  },
  {
   "cell_type": "markdown",
   "id": "91c169f6",
   "metadata": {},
   "source": [
    "For storing the new label as per customer segmentation we will create a new colummn in rfm table to store it."
   ]
  },
  {
   "cell_type": "markdown",
   "id": "7b089bd7",
   "metadata": {},
   "source": [
    "We will segment customers as follows:\n",
    "\n",
    "1. *Best Customer:* These are the customers with RFMValue of 111.  These customers have the highest score in Recency, Frequency and Monetary. Focusing on these customers should be a main priority as the main revenue for the retail is made from them. The retail should focus on making them feel valued and appreciated which in return would increase profits. It is important to communicate with these customers and take their valuable feedback time to time.\n",
    "\n",
    "\n",
    "2. *Nearly Lost Customer:* These are the customers with RFMValue of 134. These customers have made a recent purchase but are less frequent and buy cheaper items.\n",
    "\n",
    "\n",
    "3. *Least Spending, Loyal & Active Customer:* These are the customers with RFMValue of 114. They have Rscore of 1 and FScore of 1 which makes them an actively purchasing loyal customer but their purchases are cheap. The retail can target these customers as well because they are loyal and have targeted advertising.\n",
    "\n",
    "\n",
    "4. *Lost Customer:* These are the customers with RFMValue of 344. These customers have made least frequent and least amount of transactions from the retail. The retail should not focus on these customers.\n",
    "\n",
    "\n",
    "5. *High Spending, New Customer:* These are the customers with RFMValue of 141 or 142. The company should have special focus on such customers as they have made a recent purchase and that too an expensive one. As it is the first purchase and an expensive one, there is a possibility that they would purchase again if provided with deals. The store should focus on ensuring that these customers keep making purchases by providing them with offers.\n",
    "\n",
    "\n",
    "6. *Lost & Cheap Customer:* These are the customers with RFMValue of 444. They have a low score in all 3 categories: Rscore, FScore and MScore. The retail should stop utilizing it's resources on these customers as they are not contributing to the company's profits.\n",
    "\n",
    "\n",
    "7. *Churned Best Customer:* These are the customers with RFMValue of 411, 412, 421 or 422.These are the customers who stopped transacting a long time ago and were valuable back then. It is difficult to re engage these customers as they have stopped/reduced their purchases from the retail but if the retail store has more than enough resources then it is worth trying to bring these customers back. It can focus on the preferences of the customers based on their past transactional history.\n",
    "\n",
    "\n",
    "8. *Loyal Customer:* These are the customers with FScore of 1 which indicates that they frequently buy items from the retail. The retail should not let go of such customers.\n",
    "\n",
    "\n",
    "9. *Highest Spending Customer:* These are the customers with MScore of 1 which indicates that they spend a lot on purchases from the retail store. The company needs to find ways for these customers to continue making such purchases.\n",
    "\n",
    "\n",
    "10. *Others:* Customers from all other categories will be under this column. As per the business plan, we can study them further and divide them in different categories to understand their purchasing habits.\n"
   ]
  },
  {
   "cell_type": "code",
   "execution_count": 54,
   "id": "8d6099c7",
   "metadata": {},
   "outputs": [],
   "source": [
    "for i in range(len(rfm2)):\n",
    "    value=rfm2.loc[rfm2.index[i], 'RFMValue']\n",
    "    if  value== '111':\n",
    "        rfm2.loc[rfm2.index[i],'Label']  = 'Best Customer'\n",
    "        \n",
    "    elif value== '134' :\n",
    "        rfm2.loc[rfm2.index[i],'Label']  = 'Nearly Lost Customer'\n",
    "        \n",
    "    elif value== '113' or value =='114':\n",
    "        rfm2.loc[rfm2.index[i],'Label']  = 'Least Spending, Loyal & Active Customer'\n",
    "        \n",
    "    elif value== '344':\n",
    "        rfm2.loc[rfm2.index[i],'Label'] = 'Lost Customer'\n",
    "    \n",
    "    elif value=='141' or value =='142':\n",
    "        rfm2.loc[rfm2.index[i],'Label']  = 'High Spending, New Customer'\n",
    "        \n",
    "    elif value=='444':\n",
    "        rfm2.loc[rfm2.index[i],'Label']  = 'Lost & Cheap Customer'\n",
    "\n",
    "    elif value== '411' or value== '412' or value== '421' or value== '422':\n",
    "        rfm2.loc[rfm2.index[i],'Label'] = 'Churned Best Customer'\n",
    "        \n",
    "    elif rfm2.loc[rfm2.index[i], 'FScore'] == 1:\n",
    "        rfm2.loc[rfm2.index[i],'Label'] = 'Loyal Customer'\n",
    "    \n",
    "    elif rfm2.loc[rfm2.index[i], 'MScore'] == 1:\n",
    "        rfm2.loc[rfm2.index[i],'Label'] = 'Highest Spending Customer'\n",
    "        \n",
    "    else:\n",
    "         rfm2.loc[rfm2.index[i],'Label']   = 'Others'"
   ]
  },
  {
   "cell_type": "code",
   "execution_count": 55,
   "id": "3883861b",
   "metadata": {},
   "outputs": [
    {
     "data": {
      "text/html": [
       "<div>\n",
       "<style scoped>\n",
       "    .dataframe tbody tr th:only-of-type {\n",
       "        vertical-align: middle;\n",
       "    }\n",
       "\n",
       "    .dataframe tbody tr th {\n",
       "        vertical-align: top;\n",
       "    }\n",
       "\n",
       "    .dataframe thead th {\n",
       "        text-align: right;\n",
       "    }\n",
       "</style>\n",
       "<table border=\"1\" class=\"dataframe\">\n",
       "  <thead>\n",
       "    <tr style=\"text-align: right;\">\n",
       "      <th></th>\n",
       "      <th>index</th>\n",
       "      <th>CustomerID</th>\n",
       "      <th>Recency</th>\n",
       "      <th>Frequency</th>\n",
       "      <th>Monetary</th>\n",
       "      <th>RScore</th>\n",
       "      <th>FScore</th>\n",
       "      <th>MScore</th>\n",
       "      <th>RFMValue</th>\n",
       "      <th>RFMScore</th>\n",
       "      <th>Membership</th>\n",
       "      <th>Label</th>\n",
       "    </tr>\n",
       "  </thead>\n",
       "  <tbody>\n",
       "    <tr>\n",
       "      <th>0</th>\n",
       "      <td>0</td>\n",
       "      <td>12346.0</td>\n",
       "      <td>325</td>\n",
       "      <td>1</td>\n",
       "      <td>77183.60</td>\n",
       "      <td>4</td>\n",
       "      <td>4</td>\n",
       "      <td>1</td>\n",
       "      <td>441</td>\n",
       "      <td>9</td>\n",
       "      <td>Gold</td>\n",
       "      <td>Highest Spending Customer</td>\n",
       "    </tr>\n",
       "    <tr>\n",
       "      <th>1</th>\n",
       "      <td>1</td>\n",
       "      <td>12347.0</td>\n",
       "      <td>2</td>\n",
       "      <td>182</td>\n",
       "      <td>4310.00</td>\n",
       "      <td>1</td>\n",
       "      <td>1</td>\n",
       "      <td>1</td>\n",
       "      <td>111</td>\n",
       "      <td>3</td>\n",
       "      <td>Platinum</td>\n",
       "      <td>Best Customer</td>\n",
       "    </tr>\n",
       "    <tr>\n",
       "      <th>2</th>\n",
       "      <td>2</td>\n",
       "      <td>12348.0</td>\n",
       "      <td>75</td>\n",
       "      <td>31</td>\n",
       "      <td>1797.24</td>\n",
       "      <td>3</td>\n",
       "      <td>3</td>\n",
       "      <td>1</td>\n",
       "      <td>331</td>\n",
       "      <td>7</td>\n",
       "      <td>Gold</td>\n",
       "      <td>Highest Spending Customer</td>\n",
       "    </tr>\n",
       "    <tr>\n",
       "      <th>3</th>\n",
       "      <td>3</td>\n",
       "      <td>12349.0</td>\n",
       "      <td>18</td>\n",
       "      <td>73</td>\n",
       "      <td>1757.55</td>\n",
       "      <td>2</td>\n",
       "      <td>2</td>\n",
       "      <td>1</td>\n",
       "      <td>221</td>\n",
       "      <td>5</td>\n",
       "      <td>Silver</td>\n",
       "      <td>Highest Spending Customer</td>\n",
       "    </tr>\n",
       "    <tr>\n",
       "      <th>4</th>\n",
       "      <td>4</td>\n",
       "      <td>12350.0</td>\n",
       "      <td>310</td>\n",
       "      <td>17</td>\n",
       "      <td>334.40</td>\n",
       "      <td>4</td>\n",
       "      <td>4</td>\n",
       "      <td>3</td>\n",
       "      <td>443</td>\n",
       "      <td>11</td>\n",
       "      <td>Basic</td>\n",
       "      <td>Others</td>\n",
       "    </tr>\n",
       "  </tbody>\n",
       "</table>\n",
       "</div>"
      ],
      "text/plain": [
       "   index  CustomerID  Recency  Frequency  Monetary  RScore  FScore  MScore  \\\n",
       "0      0     12346.0      325          1  77183.60       4       4       1   \n",
       "1      1     12347.0        2        182   4310.00       1       1       1   \n",
       "2      2     12348.0       75         31   1797.24       3       3       1   \n",
       "3      3     12349.0       18         73   1757.55       2       2       1   \n",
       "4      4     12350.0      310         17    334.40       4       4       3   \n",
       "\n",
       "  RFMValue  RFMScore Membership                      Label  \n",
       "0      441         9       Gold  Highest Spending Customer  \n",
       "1      111         3   Platinum              Best Customer  \n",
       "2      331         7       Gold  Highest Spending Customer  \n",
       "3      221         5     Silver  Highest Spending Customer  \n",
       "4      443        11      Basic                     Others  "
      ]
     },
     "execution_count": 55,
     "metadata": {},
     "output_type": "execute_result"
    }
   ],
   "source": [
    "rfm2.head()"
   ]
  },
  {
   "cell_type": "markdown",
   "id": "3a67480d",
   "metadata": {},
   "source": [
    "#### Number of customers in each segment"
   ]
  },
  {
   "cell_type": "code",
   "execution_count": 56,
   "id": "9ab1cc73",
   "metadata": {},
   "outputs": [
    {
     "data": {
      "text/plain": [
       "Others                                     2286\n",
       "Loyal Customer                              579\n",
       "Best Customer                               440\n",
       "Lost & Cheap Customer                       384\n",
       "Highest Spending Customer                   279\n",
       "Lost Customer                               181\n",
       "Churned Best Customer                       127\n",
       "Nearly Lost Customer                         25\n",
       "High Spending, New Customer                  19\n",
       "Least Spending, Loyal & Active Customer      19\n",
       "Name: Label, dtype: int64"
      ]
     },
     "execution_count": 56,
     "metadata": {},
     "output_type": "execute_result"
    }
   ],
   "source": [
    "#counting the customers in each segment\n",
    "rfm2['Label'].value_counts()"
   ]
  },
  {
   "cell_type": "markdown",
   "id": "e259da1a",
   "metadata": {},
   "source": [
    "## Results of RFM Analysis"
   ]
  },
  {
   "cell_type": "markdown",
   "id": "807b6993",
   "metadata": {},
   "source": [
    "### 1) Customer segmentation as per membership plans"
   ]
  },
  {
   "cell_type": "code",
   "execution_count": 57,
   "id": "b2908448",
   "metadata": {},
   "outputs": [
    {
     "data": {
      "image/png": "[encoded data removed]",
      "text/plain": [
       "<Figure size 432x288 with 1 Axes>"
      ]
     },
     "metadata": {},
     "output_type": "display_data"
    }
   ],
   "source": [
    "tiers = rfm2.Membership.value_counts().sort_values(ascending=False) \n",
    "sns.set_theme(style=\"whitegrid\", palette='pastel')\n",
    "sns.barplot(x=tiers.iloc[0:10].index, y=tiers.iloc[0:10].values)\n",
    "plt.xticks(rotation=90)\n",
    "plt.ylabel('Total customers')\n",
    "plt.xlabel('Membership Plans')\n",
    "plt.title('Customers segmented as per Membership Plans',fontweight='bold')\n",
    "plt.show()"
   ]
  },
  {
   "cell_type": "markdown",
   "id": "07c23d62",
   "metadata": {},
   "source": [
    "Assigning memberships solely on the basis of the RFMScore doesnot seem to be right as it is not a good method to ensure that the customers with Platinum or Silver would be shopping quite often from the online retail. We would need to look into further details to see their shopping habits."
   ]
  },
  {
   "cell_type": "markdown",
   "id": "a244d6ca",
   "metadata": {},
   "source": [
    "### 2) Plotting  the count of customers in each RFM Segment"
   ]
  },
  {
   "cell_type": "code",
   "execution_count": 58,
   "id": "8bf850cf",
   "metadata": {},
   "outputs": [
    {
     "data": {
      "image/png": "[encoded data removed]",
      "text/plain": [
       "<Figure size 1440x360 with 1 Axes>"
      ]
     },
     "metadata": {},
     "output_type": "display_data"
    }
   ],
   "source": [
    "sns.set_theme(style=\"whitegrid\")\n",
    "fig, ax = plt.subplots(figsize=(20, 5))\n",
    "sns.countplot(x=\"RFMValue\", data=rfm2)\n",
    "plt.xticks(rotation=45)\n",
    "plt.title('Count of customers in each RFM Segment',fontweight='bold')\n",
    "plt.show()"
   ]
  },
  {
   "cell_type": "markdown",
   "id": "5ca74ba9",
   "metadata": {},
   "source": [
    "From the plot above we can see that a high majority of the customers of the online retail fall in '111' category, making themselves the best customers for the retail. Also, the second highest majority of customers are falling in the '444'  category making them the worst customers. The retail needs to focus its shift on the customers with '111' score and have targeted market advertising to increase sales."
   ]
  },
  {
   "cell_type": "markdown",
   "id": "ab5bc1f2",
   "metadata": {},
   "source": [
    "### 3) Customers segmented as per their RFM Score"
   ]
  },
  {
   "cell_type": "code",
   "execution_count": 59,
   "id": "0d01d228",
   "metadata": {},
   "outputs": [
    {
     "data": {
      "image/png": "[encoded data removed]",
      "text/plain": [
       "<Figure size 576x576 with 1 Axes>"
      ]
     },
     "metadata": {},
     "output_type": "display_data"
    }
   ],
   "source": [
    "g=rfm2['Label'].value_counts()\n",
    "plt.figure(figsize=(8, 8))\n",
    "plt.xticks(rotation=90)\n",
    "sns.barplot(x=g.iloc[0:10].index, y=g.iloc[0:10].values,palette = \"dark\")\n",
    "plt.ylabel('Total number of customers')\n",
    "plt.xlabel('Customer types')\n",
    "plt.title('Total customers in each type after segmentation by RFM',fontweight='bold')\n",
    "plt.show()"
   ]
  },
  {
   "cell_type": "markdown",
   "id": "2fc79efb",
   "metadata": {},
   "source": [
    "From the plot above we can see that the online retail has quite a lot of Loyal Customers as well as Best Customers. It can choose to focus on these customers by provided them with deals. Also, the retail store needs to reduce utilizing it's resources on the lost and cheap customers who are frugal in their purchase"
   ]
  },
  {
   "cell_type": "markdown",
   "id": "72535df0",
   "metadata": {},
   "source": [
    "### 4) Best Customers "
   ]
  },
  {
   "cell_type": "code",
   "execution_count": 60,
   "id": "20b91716",
   "metadata": {},
   "outputs": [
    {
     "data": {
      "text/plain": [
       "United Kingdom    146950\n",
       "EIRE                7077\n",
       "France              3917\n",
       "Germany             3662\n",
       "Netherlands         2080\n",
       "Portugal             784\n",
       "Belgium              560\n",
       "Norway               420\n",
       "Switzerland          354\n",
       "Sweden               198\n",
       "Iceland              182\n",
       "Spain                 23\n",
       "Name: Country, dtype: int64"
      ]
     },
     "execution_count": 60,
     "metadata": {},
     "output_type": "execute_result"
    }
   ],
   "source": [
    "dat=rfm2[rfm2['RFMValue']=='111'].sort_values('MScore', ascending=False)\n",
    "n=pd.merge(data, dat, on = \"CustomerID\", how = \"inner\")\n",
    "n['Country'].value_counts()"
   ]
  },
  {
   "cell_type": "markdown",
   "id": "fbbb15fe",
   "metadata": {},
   "source": [
    "The best customers of the online retail store belong majorly from United Kingdom itself and its neighbouring European countries like France, Germany, Netherlands and Portugal."
   ]
  },
  {
   "cell_type": "markdown",
   "id": "0c4ec30f",
   "metadata": {},
   "source": [
    "## Customer Segmentation using k means clustering\n"
   ]
  },
  {
   "cell_type": "markdown",
   "id": "8ab2f600",
   "metadata": {},
   "source": [
    "K-means clustering is a technique used to cluster customers. The clustering technique can be based on geographical information, demographic information or lifestyle information. In this case, we will segment customers as per the RFM score and assign them a cluster.\n"
   ]
  },
  {
   "cell_type": "markdown",
   "id": "6cfc53e9",
   "metadata": {},
   "source": [
    "K means clustering can help a business by helping them to customize their campaigns and advertising. It will also help the business decide which group of customers need to be targeted for a new product."
   ]
  },
  {
   "cell_type": "code",
   "execution_count": 61,
   "id": "43c11e0c",
   "metadata": {},
   "outputs": [
    {
     "data": {
      "text/html": [
       "<div>\n",
       "<style scoped>\n",
       "    .dataframe tbody tr th:only-of-type {\n",
       "        vertical-align: middle;\n",
       "    }\n",
       "\n",
       "    .dataframe tbody tr th {\n",
       "        vertical-align: top;\n",
       "    }\n",
       "\n",
       "    .dataframe thead th {\n",
       "        text-align: right;\n",
       "    }\n",
       "</style>\n",
       "<table border=\"1\" class=\"dataframe\">\n",
       "  <thead>\n",
       "    <tr style=\"text-align: right;\">\n",
       "      <th></th>\n",
       "      <th>Recency</th>\n",
       "      <th>Frequency</th>\n",
       "      <th>Monetary</th>\n",
       "    </tr>\n",
       "  </thead>\n",
       "  <tbody>\n",
       "    <tr>\n",
       "      <th>0</th>\n",
       "      <td>325</td>\n",
       "      <td>1</td>\n",
       "      <td>77183.60</td>\n",
       "    </tr>\n",
       "    <tr>\n",
       "      <th>1</th>\n",
       "      <td>2</td>\n",
       "      <td>182</td>\n",
       "      <td>4310.00</td>\n",
       "    </tr>\n",
       "    <tr>\n",
       "      <th>2</th>\n",
       "      <td>75</td>\n",
       "      <td>31</td>\n",
       "      <td>1797.24</td>\n",
       "    </tr>\n",
       "    <tr>\n",
       "      <th>3</th>\n",
       "      <td>18</td>\n",
       "      <td>73</td>\n",
       "      <td>1757.55</td>\n",
       "    </tr>\n",
       "    <tr>\n",
       "      <th>4</th>\n",
       "      <td>310</td>\n",
       "      <td>17</td>\n",
       "      <td>334.40</td>\n",
       "    </tr>\n",
       "  </tbody>\n",
       "</table>\n",
       "</div>"
      ],
      "text/plain": [
       "   Recency  Frequency  Monetary\n",
       "0      325          1  77183.60\n",
       "1        2        182   4310.00\n",
       "2       75         31   1797.24\n",
       "3       18         73   1757.55\n",
       "4      310         17    334.40"
      ]
     },
     "execution_count": 61,
     "metadata": {},
     "output_type": "execute_result"
    }
   ],
   "source": [
    "RFM = rfm2[['Recency','Frequency','Monetary']]\n",
    "RFM.head()"
   ]
  },
  {
   "cell_type": "markdown",
   "id": "877d1323",
   "metadata": {},
   "source": [
    "#### Heatmap"
   ]
  },
  {
   "cell_type": "code",
   "execution_count": 62,
   "id": "cbf356d7",
   "metadata": {},
   "outputs": [
    {
     "data": {
      "text/plain": [
       "<AxesSubplot:>"
      ]
     },
     "execution_count": 62,
     "metadata": {},
     "output_type": "execute_result"
    },
    {
     "data": {
      "image/png": "[encoded data removed]",
      "text/plain": [
       "<Figure size 432x288 with 2 Axes>"
      ]
     },
     "metadata": {},
     "output_type": "display_data"
    }
   ],
   "source": [
    "sns.heatmap(RFM.corr(), cmap=\"YlGnBu\", annot=True)"
   ]
  },
  {
   "cell_type": "markdown",
   "id": "2128971b",
   "metadata": {},
   "source": [
    "The heatmap shows a positive correlation between Frequency and Monetary. It implies that as the frequency of purchase increases, the monetary value increases as well.Also, there is a negative relation between Frequency and Recency which indicates that if the frequency of purchase decreases then the recency also decreases."
   ]
  },
  {
   "cell_type": "markdown",
   "id": "fba14100",
   "metadata": {},
   "source": [
    "### Skewness in data for RFM Table"
   ]
  },
  {
   "cell_type": "markdown",
   "id": "ddfee7e1",
   "metadata": {},
   "source": [
    "The need to check for skewness in data is because k means clustering only works for data which is not skewed. Skewness refers to the distortion that deviates from the normal distribution."
   ]
  },
  {
   "cell_type": "code",
   "execution_count": 63,
   "id": "f57c39c2",
   "metadata": {
    "scrolled": true
   },
   "outputs": [
    {
     "data": {
      "text/plain": [
       "Recency       1.246137\n",
       "Frequency    18.106243\n",
       "Monetary     19.326985\n",
       "dtype: float64"
      ]
     },
     "execution_count": 63,
     "metadata": {},
     "output_type": "execute_result"
    }
   ],
   "source": [
    "RFM.skew(axis = 0, skipna = True)# checking for skewness in data"
   ]
  },
  {
   "cell_type": "markdown",
   "id": "733b305b",
   "metadata": {},
   "source": [
    "The data seems to be highly skewed. The skewness is maximum for Monetary column.\n",
    "\n",
    "From the plots for Recency, Frequency and Monetary respectively we can understand the distribution properly."
   ]
  },
  {
   "cell_type": "markdown",
   "id": "fcc0ce47",
   "metadata": {},
   "source": [
    "#### Plot RFM distributions to look for skewness"
   ]
  },
  {
   "cell_type": "code",
   "execution_count": 64,
   "id": "0852e860",
   "metadata": {},
   "outputs": [
    {
     "data": {
      "image/png": "[encoded data removed]",
      "text/plain": [
       "<Figure size 432x288 with 1 Axes>"
      ]
     },
     "metadata": {},
     "output_type": "display_data"
    }
   ],
   "source": [
    "# Plot distribution of Recency\n",
    "sns.histplot(RFM['Recency'],color='purple',kde=True, stat=\"density\", linewidth=0)\n",
    "plt.xlim(0,500)\n",
    "plt.grid(True)\n",
    "plt.title('Plot distribution of Recency',fontweight=\"bold\")\n",
    "plt.show()"
   ]
  },
  {
   "cell_type": "code",
   "execution_count": 65,
   "id": "fefe0d73",
   "metadata": {},
   "outputs": [
    {
     "data": {
      "image/png": "[encoded data removed]",
      "text/plain": [
       "<Figure size 360x360 with 1 Axes>"
      ]
     },
     "metadata": {},
     "output_type": "display_data"
    }
   ],
   "source": [
    "# Plot distribution of Frequency\n",
    "sns.displot(RFM['Frequency'],color=\"green\",kde=True, stat=\"density\", linewidth=0)\n",
    "plt.xlim(0,500)\n",
    "plt.grid(True)\n",
    "plt.title('Plot distribution of Frequency',fontweight=\"bold\")\n",
    "plt.show()"
   ]
  },
  {
   "cell_type": "code",
   "execution_count": 66,
   "id": "d5137e4e",
   "metadata": {},
   "outputs": [
    {
     "data": {
      "image/png": "[encoded data removed]",
      "text/plain": [
       "<Figure size 432x288 with 1 Axes>"
      ]
     },
     "metadata": {},
     "output_type": "display_data"
    }
   ],
   "source": [
    "# Plot distribution of Monetary\n",
    "sns.histplot(RFM['Monetary'],color=\"red\",kde=True, stat=\"density\", linewidth=0)\n",
    "plt.xlim(0,6000)\n",
    "plt.grid(True)\n",
    "plt.title('Plot distribution of Monetary',fontweight=\"bold\")\n",
    "plt.show()"
   ]
  },
  {
   "cell_type": "markdown",
   "id": "8c21d4c5",
   "metadata": {},
   "source": [
    "From the plots above we can see that the data is highly skewed. To reduce skewness of the data, we will perform log transformations to reduce the skewness of each variable."
   ]
  },
  {
   "cell_type": "markdown",
   "id": "825df7d6",
   "metadata": {},
   "source": [
    "### Normalization"
   ]
  },
  {
   "cell_type": "markdown",
   "id": "c461d606",
   "metadata": {},
   "source": [
    "As the dataset has values of Recency, Frequency and Monetary in different ranges, we will use normalization to bring the values to a common scale."
   ]
  },
  {
   "cell_type": "markdown",
   "id": "0c778473",
   "metadata": {},
   "source": [
    "MinMaxScaler() is a normalization technique used to scale the data in the range of 0 to 1. The minimum value of feature gets scaled down to 0 and the maximum value of a feature is scaled to 1."
   ]
  },
  {
   "cell_type": "code",
   "execution_count": 67,
   "id": "8869e339",
   "metadata": {},
   "outputs": [],
   "source": [
    "scaler = MinMaxScaler()#to normalize the input variables\n",
    "x_scaled = scaler.fit_transform(RFM)#to scale the training data and  learn the scaling parameters of RFM data\n",
    "scaled_data = pd.DataFrame(x_scaled,columns=RFM.columns)"
   ]
  },
  {
   "cell_type": "code",
   "execution_count": 68,
   "id": "003fd9e2",
   "metadata": {},
   "outputs": [
    {
     "data": {
      "text/html": [
       "<div>\n",
       "<style scoped>\n",
       "    .dataframe tbody tr th:only-of-type {\n",
       "        vertical-align: middle;\n",
       "    }\n",
       "\n",
       "    .dataframe tbody tr th {\n",
       "        vertical-align: top;\n",
       "    }\n",
       "\n",
       "    .dataframe thead th {\n",
       "        text-align: right;\n",
       "    }\n",
       "</style>\n",
       "<table border=\"1\" class=\"dataframe\">\n",
       "  <thead>\n",
       "    <tr style=\"text-align: right;\">\n",
       "      <th></th>\n",
       "      <th>Recency</th>\n",
       "      <th>Frequency</th>\n",
       "      <th>Monetary</th>\n",
       "    </tr>\n",
       "  </thead>\n",
       "  <tbody>\n",
       "    <tr>\n",
       "      <th>0</th>\n",
       "      <td>0.871314</td>\n",
       "      <td>0.000000</td>\n",
       "      <td>0.275453</td>\n",
       "    </tr>\n",
       "    <tr>\n",
       "      <th>1</th>\n",
       "      <td>0.005362</td>\n",
       "      <td>0.023069</td>\n",
       "      <td>0.015382</td>\n",
       "    </tr>\n",
       "    <tr>\n",
       "      <th>2</th>\n",
       "      <td>0.201072</td>\n",
       "      <td>0.003824</td>\n",
       "      <td>0.006414</td>\n",
       "    </tr>\n",
       "    <tr>\n",
       "      <th>3</th>\n",
       "      <td>0.048257</td>\n",
       "      <td>0.009177</td>\n",
       "      <td>0.006272</td>\n",
       "    </tr>\n",
       "    <tr>\n",
       "      <th>4</th>\n",
       "      <td>0.831099</td>\n",
       "      <td>0.002039</td>\n",
       "      <td>0.001193</td>\n",
       "    </tr>\n",
       "  </tbody>\n",
       "</table>\n",
       "</div>"
      ],
      "text/plain": [
       "    Recency  Frequency  Monetary\n",
       "0  0.871314   0.000000  0.275453\n",
       "1  0.005362   0.023069  0.015382\n",
       "2  0.201072   0.003824  0.006414\n",
       "3  0.048257   0.009177  0.006272\n",
       "4  0.831099   0.002039  0.001193"
      ]
     },
     "execution_count": 68,
     "metadata": {},
     "output_type": "execute_result"
    }
   ],
   "source": [
    "scaled_data.head()"
   ]
  },
  {
   "cell_type": "markdown",
   "id": "7cd41272",
   "metadata": {},
   "source": [
    "#### Plots of Recency, Frequency and Monetary after normalizing the dataset"
   ]
  },
  {
   "cell_type": "code",
   "execution_count": 69,
   "id": "f5607070",
   "metadata": {
    "scrolled": true
   },
   "outputs": [
    {
     "data": {
      "image/png": "[encoded data removed]",
      "text/plain": [
       "<Figure size 432x288 with 1 Axes>"
      ]
     },
     "metadata": {},
     "output_type": "display_data"
    }
   ],
   "source": [
    "# Plot distribution of Recency\n",
    "sns.histplot(scaled_data['Recency'],color=\"purple\",kde=True, stat=\"density\", linewidth=0)\n",
    "plt.grid(True)\n",
    "plt.title('Plot distribution of Recency after normalization',fontweight=\"bold\")\n",
    "plt.show()"
   ]
  },
  {
   "cell_type": "code",
   "execution_count": 70,
   "id": "5207b519",
   "metadata": {},
   "outputs": [
    {
     "data": {
      "image/png": "[encoded data removed]",
      "text/plain": [
       "<Figure size 432x288 with 1 Axes>"
      ]
     },
     "metadata": {},
     "output_type": "display_data"
    }
   ],
   "source": [
    "# Plot distribution of Frequency\n",
    "sns.histplot(scaled_data['Frequency'],color=\"green\",kde=True, stat=\"density\", linewidth=0)\n",
    "plt.xlim(0,0.08)\n",
    "plt.grid(True)\n",
    "plt.title('Plot distribution of Frequency after normalization',fontweight=\"bold\")\n",
    "plt.show()"
   ]
  },
  {
   "cell_type": "code",
   "execution_count": 71,
   "id": "602e8a34",
   "metadata": {},
   "outputs": [
    {
     "data": {
      "image/png": "[encoded data removed]",
      "text/plain": [
       "<Figure size 432x288 with 1 Axes>"
      ]
     },
     "metadata": {},
     "output_type": "display_data"
    }
   ],
   "source": [
    "#Plot distribution of Monetary\n",
    "sns.histplot(scaled_data['Monetary'],color=\"blue\",kde=True, stat=\"density\", linewidth=0)\n",
    "plt.xlim(0,0.09)\n",
    "plt.grid(True)\n",
    "plt.title('Plot distribution of Monetary after normalization',fontweight=\"bold\")\n",
    "plt.show()"
   ]
  },
  {
   "cell_type": "markdown",
   "id": "396bc9c0",
   "metadata": {},
   "source": [
    "From the above 3 plots, it is seen that the data has been normalized for all three parameters."
   ]
  },
  {
   "cell_type": "markdown",
   "id": "e58696db",
   "metadata": {},
   "source": [
    "### Elbow Method"
   ]
  },
  {
   "cell_type": "markdown",
   "id": "8e24b9f2",
   "metadata": {},
   "source": [
    "Elbow method is used to determine the number of clusters required for the dataset."
   ]
  },
  {
   "cell_type": "code",
   "execution_count": 72,
   "id": "81e0c127",
   "metadata": {},
   "outputs": [
    {
     "data": {
      "image/png": "[encoded data removed]",
      "text/plain": [
       "<Figure size 432x288 with 1 Axes>"
      ]
     },
     "metadata": {},
     "output_type": "display_data"
    }
   ],
   "source": [
    "X = np.asarray(scaled_data)\n",
    "dist = []\n",
    "K = range(1,15)\n",
    "for k in K:\n",
    "    km = KMeans(n_clusters=k)\n",
    "    km = km.fit(X)\n",
    "    dist.append(km.inertia_)\n",
    "plt.plot(K, dist,marker=\"*\",c=\"green\")\n",
    "plt.xlabel('Values of k')\n",
    "plt.ylabel('Sum of squared distances')\n",
    "plt.title('Elbow Method to find optimal number of cluster(k)')\n",
    "plt.show()"
   ]
  },
  {
   "cell_type": "markdown",
   "id": "0f34b420",
   "metadata": {},
   "source": [
    "From the elbow plot we can see that the optimal number for k is 4. Thus, there will be 4 clusters."
   ]
  },
  {
   "cell_type": "code",
   "execution_count": 73,
   "id": "6d722434",
   "metadata": {},
   "outputs": [],
   "source": [
    "kmeans = KMeans(n_clusters = 4, init='k-means++', n_init =10,max_iter = 300)\n",
    "kmeans.fit(scaled_data)\n",
    "pred = kmeans.predict(scaled_data)\n",
    "y_kmeans = kmeans.predict(scaled_data)"
   ]
  },
  {
   "cell_type": "markdown",
   "id": "4a4ba236",
   "metadata": {},
   "source": [
    "#### Silhouette Score"
   ]
  },
  {
   "cell_type": "markdown",
   "id": "cf8cc51c",
   "metadata": {},
   "source": [
    "Silhouette score range from -1 to +1 and evaluates the quality of clusters created by the algorithm.A score close to +1 indicates good clustering model and a score close to -1 indicates a poor clustering model.\n"
   ]
  },
  {
   "cell_type": "code",
   "execution_count": 74,
   "id": "1ac433aa",
   "metadata": {},
   "outputs": [
    {
     "name": "stdout",
     "output_type": "stream",
     "text": [
      "Silhouette Score= 0.5770367168753653\n"
     ]
    }
   ],
   "source": [
    "score = silhouette_score (scaled_data, kmeans.labels_)\n",
    "print('Silhouette Score=' , score)"
   ]
  },
  {
   "cell_type": "code",
   "execution_count": 75,
   "id": "96050b29",
   "metadata": {
    "scrolled": true
   },
   "outputs": [],
   "source": [
    "# group by cluster\n",
    "cluster_table = RFM.assign(Cluster=kmeans.labels_)"
   ]
  },
  {
   "cell_type": "markdown",
   "id": "89824f7d",
   "metadata": {},
   "source": [
    "#### Average RFM values for each cluster"
   ]
  },
  {
   "cell_type": "code",
   "execution_count": 76,
   "id": "1da7d47e",
   "metadata": {},
   "outputs": [
    {
     "data": {
      "text/html": [
       "<div>\n",
       "<style scoped>\n",
       "    .dataframe tbody tr th:only-of-type {\n",
       "        vertical-align: middle;\n",
       "    }\n",
       "\n",
       "    .dataframe tbody tr th {\n",
       "        vertical-align: top;\n",
       "    }\n",
       "\n",
       "    .dataframe thead th {\n",
       "        text-align: right;\n",
       "    }\n",
       "</style>\n",
       "<table border=\"1\" class=\"dataframe\">\n",
       "  <thead>\n",
       "    <tr style=\"text-align: right;\">\n",
       "      <th></th>\n",
       "      <th>Recency</th>\n",
       "      <th>Frequency</th>\n",
       "      <th>Monetary</th>\n",
       "    </tr>\n",
       "    <tr>\n",
       "      <th>Cluster</th>\n",
       "      <th></th>\n",
       "      <th></th>\n",
       "      <th></th>\n",
       "    </tr>\n",
       "  </thead>\n",
       "  <tbody>\n",
       "    <tr>\n",
       "      <th>0</th>\n",
       "      <td>83.823529</td>\n",
       "      <td>51.886210</td>\n",
       "      <td>1014.687408</td>\n",
       "    </tr>\n",
       "    <tr>\n",
       "      <th>1</th>\n",
       "      <td>193.018395</td>\n",
       "      <td>34.443144</td>\n",
       "      <td>721.201958</td>\n",
       "    </tr>\n",
       "    <tr>\n",
       "      <th>2</th>\n",
       "      <td>19.800634</td>\n",
       "      <td>141.265519</td>\n",
       "      <td>3237.989697</td>\n",
       "    </tr>\n",
       "    <tr>\n",
       "      <th>3</th>\n",
       "      <td>308.486922</td>\n",
       "      <td>23.637827</td>\n",
       "      <td>566.710322</td>\n",
       "    </tr>\n",
       "  </tbody>\n",
       "</table>\n",
       "</div>"
      ],
      "text/plain": [
       "            Recency   Frequency     Monetary\n",
       "Cluster                                     \n",
       "0         83.823529   51.886210  1014.687408\n",
       "1        193.018395   34.443144   721.201958\n",
       "2         19.800634  141.265519  3237.989697\n",
       "3        308.486922   23.637827   566.710322"
      ]
     },
     "execution_count": 76,
     "metadata": {},
     "output_type": "execute_result"
    }
   ],
   "source": [
    "# average RFM values for each cluster\n",
    "cluster_table.groupby(['Cluster']).mean()"
   ]
  },
  {
   "cell_type": "code",
   "execution_count": 77,
   "id": "8ea75a96",
   "metadata": {},
   "outputs": [
    {
     "data": {
      "text/html": [
       "<div>\n",
       "<style scoped>\n",
       "    .dataframe tbody tr th:only-of-type {\n",
       "        vertical-align: middle;\n",
       "    }\n",
       "\n",
       "    .dataframe tbody tr th {\n",
       "        vertical-align: top;\n",
       "    }\n",
       "\n",
       "    .dataframe thead th {\n",
       "        text-align: right;\n",
       "    }\n",
       "</style>\n",
       "<table border=\"1\" class=\"dataframe\">\n",
       "  <thead>\n",
       "    <tr style=\"text-align: right;\">\n",
       "      <th></th>\n",
       "      <th>index</th>\n",
       "      <th>CustomerID</th>\n",
       "      <th>Recency</th>\n",
       "      <th>Frequency</th>\n",
       "      <th>Monetary</th>\n",
       "      <th>RScore</th>\n",
       "      <th>FScore</th>\n",
       "      <th>MScore</th>\n",
       "      <th>RFMValue</th>\n",
       "      <th>RFMScore</th>\n",
       "      <th>Membership</th>\n",
       "      <th>Label</th>\n",
       "      <th>cluster</th>\n",
       "    </tr>\n",
       "  </thead>\n",
       "  <tbody>\n",
       "    <tr>\n",
       "      <th>4334</th>\n",
       "      <td>4334</td>\n",
       "      <td>18280.0</td>\n",
       "      <td>277</td>\n",
       "      <td>10</td>\n",
       "      <td>180.60</td>\n",
       "      <td>4</td>\n",
       "      <td>4</td>\n",
       "      <td>4</td>\n",
       "      <td>444</td>\n",
       "      <td>12</td>\n",
       "      <td>Basic</td>\n",
       "      <td>Lost &amp; Cheap Customer</td>\n",
       "      <td>3</td>\n",
       "    </tr>\n",
       "    <tr>\n",
       "      <th>4335</th>\n",
       "      <td>4335</td>\n",
       "      <td>18281.0</td>\n",
       "      <td>180</td>\n",
       "      <td>7</td>\n",
       "      <td>80.82</td>\n",
       "      <td>4</td>\n",
       "      <td>4</td>\n",
       "      <td>4</td>\n",
       "      <td>444</td>\n",
       "      <td>12</td>\n",
       "      <td>Basic</td>\n",
       "      <td>Lost &amp; Cheap Customer</td>\n",
       "      <td>1</td>\n",
       "    </tr>\n",
       "    <tr>\n",
       "      <th>4336</th>\n",
       "      <td>4336</td>\n",
       "      <td>18282.0</td>\n",
       "      <td>7</td>\n",
       "      <td>12</td>\n",
       "      <td>178.05</td>\n",
       "      <td>1</td>\n",
       "      <td>4</td>\n",
       "      <td>4</td>\n",
       "      <td>144</td>\n",
       "      <td>9</td>\n",
       "      <td>Gold</td>\n",
       "      <td>Others</td>\n",
       "      <td>2</td>\n",
       "    </tr>\n",
       "    <tr>\n",
       "      <th>4337</th>\n",
       "      <td>4337</td>\n",
       "      <td>18283.0</td>\n",
       "      <td>3</td>\n",
       "      <td>756</td>\n",
       "      <td>2094.88</td>\n",
       "      <td>1</td>\n",
       "      <td>1</td>\n",
       "      <td>1</td>\n",
       "      <td>111</td>\n",
       "      <td>3</td>\n",
       "      <td>Platinum</td>\n",
       "      <td>Best Customer</td>\n",
       "      <td>2</td>\n",
       "    </tr>\n",
       "    <tr>\n",
       "      <th>4338</th>\n",
       "      <td>4338</td>\n",
       "      <td>18287.0</td>\n",
       "      <td>42</td>\n",
       "      <td>70</td>\n",
       "      <td>1837.28</td>\n",
       "      <td>2</td>\n",
       "      <td>2</td>\n",
       "      <td>1</td>\n",
       "      <td>221</td>\n",
       "      <td>5</td>\n",
       "      <td>Silver</td>\n",
       "      <td>Highest Spending Customer</td>\n",
       "      <td>2</td>\n",
       "    </tr>\n",
       "  </tbody>\n",
       "</table>\n",
       "</div>"
      ],
      "text/plain": [
       "      index  CustomerID  Recency  Frequency  Monetary  RScore  FScore  MScore  \\\n",
       "4334   4334     18280.0      277         10    180.60       4       4       4   \n",
       "4335   4335     18281.0      180          7     80.82       4       4       4   \n",
       "4336   4336     18282.0        7         12    178.05       1       4       4   \n",
       "4337   4337     18283.0        3        756   2094.88       1       1       1   \n",
       "4338   4338     18287.0       42         70   1837.28       2       2       1   \n",
       "\n",
       "     RFMValue  RFMScore Membership                      Label  cluster  \n",
       "4334      444        12      Basic      Lost & Cheap Customer        3  \n",
       "4335      444        12      Basic      Lost & Cheap Customer        1  \n",
       "4336      144         9       Gold                     Others        2  \n",
       "4337      111         3   Platinum              Best Customer        2  \n",
       "4338      221         5     Silver  Highest Spending Customer        2  "
      ]
     },
     "execution_count": 77,
     "metadata": {},
     "output_type": "execute_result"
    }
   ],
   "source": [
    "df1 = pd.DataFrame(rfm2)\n",
    "rfm2['cluster'] = y_kmeans\n",
    "rfm2.tail()"
   ]
  },
  {
   "cell_type": "markdown",
   "id": "00c25110",
   "metadata": {},
   "source": [
    "#### Total customers in each cluster"
   ]
  },
  {
   "cell_type": "code",
   "execution_count": 78,
   "id": "37fdb0c1",
   "metadata": {
    "scrolled": true
   },
   "outputs": [
    {
     "data": {
      "text/plain": [
       "2    2207\n",
       "0    1037\n",
       "1     598\n",
       "3     497\n",
       "Name: cluster, dtype: int64"
      ]
     },
     "execution_count": 78,
     "metadata": {},
     "output_type": "execute_result"
    }
   ],
   "source": [
    "rfm2['cluster'].value_counts()"
   ]
  },
  {
   "cell_type": "markdown",
   "id": "026afb23",
   "metadata": {},
   "source": [
    "#### Conclusion"
   ]
  },
  {
   "cell_type": "markdown",
   "id": "3fed227c",
   "metadata": {},
   "source": [
    "Cluster 0 has 2231 customers which makes it the group with highest number of customers. It has 51.04% of total customers. It comprises of the group of customers that spend the most and are best customers. It includes a few other customers as well.\n",
    "\n",
    "\n",
    "Cluster 1 has 497 customers which makes it the group with lowest number of customers. It has 11.45% of total customers. It denotes the group of certain lost and cheap customers as well as nearly lost customers.They make the transactions of small amounts.\n",
    "\n",
    "\n",
    "Cluster 2 has 1013 customers which makes it the second largest group in terms of number of customers. It has 23.34% of total customers. It denotes the group which makes big transactions and comprises of loyal customers as well.\n",
    "\n",
    "\n",
    "Cluster 3 has 598 customers which makes it the group with lowest number of customers. It has 13.78% of total customers. It denotes the group of customers who visit frequently but are making average transactions. It also comprises of churned best customers."
   ]
  },
  {
   "cell_type": "markdown",
   "id": "e2b09bb0",
   "metadata": {},
   "source": [
    "## Market Basket Analysis by Apriori Algorithm"
   ]
  },
  {
   "cell_type": "markdown",
   "id": "dc65549f",
   "metadata": {},
   "source": [
    "The Apriori Algorithm makes use of frequently bought items to make association rules and helps to determine how strongly or weakly two objects are connected. In our case, it can help us to understand and find the products which can be bough together."
   ]
  },
  {
   "cell_type": "code",
   "execution_count": 79,
   "id": "3a76c3ab",
   "metadata": {},
   "outputs": [],
   "source": [
    "from mlxtend.frequent_patterns import apriori\n",
    "from mlxtend.frequent_patterns import association_rules"
   ]
  },
  {
   "cell_type": "markdown",
   "id": "9cb8aaef",
   "metadata": {},
   "source": [
    "As the number of products purchased were highest for United Kingdom, we will focus on it specifically."
   ]
  },
  {
   "cell_type": "code",
   "execution_count": 80,
   "id": "cd85d805",
   "metadata": {},
   "outputs": [
    {
     "name": "stdout",
     "output_type": "stream",
     "text": [
      "Unique products in dataset: 3844\n"
     ]
    }
   ],
   "source": [
    "uk = data[data['Country']=='United Kingdom']# picking up the data which has entries for country as United Kingdom\n",
    "print('Unique products in dataset:',uk['Description'].nunique())"
   ]
  },
  {
   "cell_type": "code",
   "execution_count": 81,
   "id": "aab6ea09",
   "metadata": {},
   "outputs": [
    {
     "data": {
      "text/html": [
       "<div>\n",
       "<style scoped>\n",
       "    .dataframe tbody tr th:only-of-type {\n",
       "        vertical-align: middle;\n",
       "    }\n",
       "\n",
       "    .dataframe tbody tr th {\n",
       "        vertical-align: top;\n",
       "    }\n",
       "\n",
       "    .dataframe thead th {\n",
       "        text-align: right;\n",
       "    }\n",
       "</style>\n",
       "<table border=\"1\" class=\"dataframe\">\n",
       "  <thead>\n",
       "    <tr style=\"text-align: right;\">\n",
       "      <th>Description</th>\n",
       "      <th>4 PURPLE FLOCK DINNER CANDLES</th>\n",
       "      <th>50'S CHRISTMAS GIFT BAG LARGE</th>\n",
       "      <th>DOLLY GIRL BEAKER</th>\n",
       "      <th>I LOVE LONDON MINI BACKPACK</th>\n",
       "      <th>NINE DRAWER OFFICE TIDY</th>\n",
       "      <th>OVAL WALL MIRROR DIAMANTE</th>\n",
       "      <th>RED SPOT GIFT BAG LARGE</th>\n",
       "      <th>SET 2 TEA TOWELS I LOVE LONDON</th>\n",
       "      <th>SPACEBOY BABY GIFT SET</th>\n",
       "      <th>TOADSTOOL BEDSIDE LIGHT</th>\n",
       "      <th>...</th>\n",
       "      <th>ZINC STAR T-LIGHT HOLDER</th>\n",
       "      <th>ZINC SWEETHEART SOAP DISH</th>\n",
       "      <th>ZINC SWEETHEART WIRE LETTER RACK</th>\n",
       "      <th>ZINC T-LIGHT HOLDER STAR LARGE</th>\n",
       "      <th>ZINC T-LIGHT HOLDER STARS LARGE</th>\n",
       "      <th>ZINC T-LIGHT HOLDER STARS SMALL</th>\n",
       "      <th>ZINC TOP  2 DOOR WOODEN SHELF</th>\n",
       "      <th>ZINC WILLIE WINKIE  CANDLE STICK</th>\n",
       "      <th>ZINC WIRE KITCHEN ORGANISER</th>\n",
       "      <th>ZINC WIRE SWEETHEART LETTER TRAY</th>\n",
       "    </tr>\n",
       "    <tr>\n",
       "      <th>InvoiceNo</th>\n",
       "      <th></th>\n",
       "      <th></th>\n",
       "      <th></th>\n",
       "      <th></th>\n",
       "      <th></th>\n",
       "      <th></th>\n",
       "      <th></th>\n",
       "      <th></th>\n",
       "      <th></th>\n",
       "      <th></th>\n",
       "      <th></th>\n",
       "      <th></th>\n",
       "      <th></th>\n",
       "      <th></th>\n",
       "      <th></th>\n",
       "      <th></th>\n",
       "      <th></th>\n",
       "      <th></th>\n",
       "      <th></th>\n",
       "      <th></th>\n",
       "      <th></th>\n",
       "    </tr>\n",
       "  </thead>\n",
       "  <tbody>\n",
       "    <tr>\n",
       "      <th>536365</th>\n",
       "      <td>0.0</td>\n",
       "      <td>0.0</td>\n",
       "      <td>0.0</td>\n",
       "      <td>0.0</td>\n",
       "      <td>0.0</td>\n",
       "      <td>0.0</td>\n",
       "      <td>0.0</td>\n",
       "      <td>0.0</td>\n",
       "      <td>0.0</td>\n",
       "      <td>0.0</td>\n",
       "      <td>...</td>\n",
       "      <td>0.0</td>\n",
       "      <td>0.0</td>\n",
       "      <td>0.0</td>\n",
       "      <td>0.0</td>\n",
       "      <td>0.0</td>\n",
       "      <td>0.0</td>\n",
       "      <td>0.0</td>\n",
       "      <td>0.0</td>\n",
       "      <td>0.0</td>\n",
       "      <td>0.0</td>\n",
       "    </tr>\n",
       "    <tr>\n",
       "      <th>536366</th>\n",
       "      <td>0.0</td>\n",
       "      <td>0.0</td>\n",
       "      <td>0.0</td>\n",
       "      <td>0.0</td>\n",
       "      <td>0.0</td>\n",
       "      <td>0.0</td>\n",
       "      <td>0.0</td>\n",
       "      <td>0.0</td>\n",
       "      <td>0.0</td>\n",
       "      <td>0.0</td>\n",
       "      <td>...</td>\n",
       "      <td>0.0</td>\n",
       "      <td>0.0</td>\n",
       "      <td>0.0</td>\n",
       "      <td>0.0</td>\n",
       "      <td>0.0</td>\n",
       "      <td>0.0</td>\n",
       "      <td>0.0</td>\n",
       "      <td>0.0</td>\n",
       "      <td>0.0</td>\n",
       "      <td>0.0</td>\n",
       "    </tr>\n",
       "    <tr>\n",
       "      <th>536367</th>\n",
       "      <td>0.0</td>\n",
       "      <td>0.0</td>\n",
       "      <td>0.0</td>\n",
       "      <td>0.0</td>\n",
       "      <td>0.0</td>\n",
       "      <td>0.0</td>\n",
       "      <td>0.0</td>\n",
       "      <td>0.0</td>\n",
       "      <td>0.0</td>\n",
       "      <td>0.0</td>\n",
       "      <td>...</td>\n",
       "      <td>0.0</td>\n",
       "      <td>0.0</td>\n",
       "      <td>0.0</td>\n",
       "      <td>0.0</td>\n",
       "      <td>0.0</td>\n",
       "      <td>0.0</td>\n",
       "      <td>0.0</td>\n",
       "      <td>0.0</td>\n",
       "      <td>0.0</td>\n",
       "      <td>0.0</td>\n",
       "    </tr>\n",
       "    <tr>\n",
       "      <th>536368</th>\n",
       "      <td>0.0</td>\n",
       "      <td>0.0</td>\n",
       "      <td>0.0</td>\n",
       "      <td>0.0</td>\n",
       "      <td>0.0</td>\n",
       "      <td>0.0</td>\n",
       "      <td>0.0</td>\n",
       "      <td>0.0</td>\n",
       "      <td>0.0</td>\n",
       "      <td>0.0</td>\n",
       "      <td>...</td>\n",
       "      <td>0.0</td>\n",
       "      <td>0.0</td>\n",
       "      <td>0.0</td>\n",
       "      <td>0.0</td>\n",
       "      <td>0.0</td>\n",
       "      <td>0.0</td>\n",
       "      <td>0.0</td>\n",
       "      <td>0.0</td>\n",
       "      <td>0.0</td>\n",
       "      <td>0.0</td>\n",
       "    </tr>\n",
       "    <tr>\n",
       "      <th>536369</th>\n",
       "      <td>0.0</td>\n",
       "      <td>0.0</td>\n",
       "      <td>0.0</td>\n",
       "      <td>0.0</td>\n",
       "      <td>0.0</td>\n",
       "      <td>0.0</td>\n",
       "      <td>0.0</td>\n",
       "      <td>0.0</td>\n",
       "      <td>0.0</td>\n",
       "      <td>0.0</td>\n",
       "      <td>...</td>\n",
       "      <td>0.0</td>\n",
       "      <td>0.0</td>\n",
       "      <td>0.0</td>\n",
       "      <td>0.0</td>\n",
       "      <td>0.0</td>\n",
       "      <td>0.0</td>\n",
       "      <td>0.0</td>\n",
       "      <td>0.0</td>\n",
       "      <td>0.0</td>\n",
       "      <td>0.0</td>\n",
       "    </tr>\n",
       "  </tbody>\n",
       "</table>\n",
       "<p>5 rows × 3844 columns</p>\n",
       "</div>"
      ],
      "text/plain": [
       "Description   4 PURPLE FLOCK DINNER CANDLES   50'S CHRISTMAS GIFT BAG LARGE  \\\n",
       "InvoiceNo                                                                     \n",
       "536365                                  0.0                             0.0   \n",
       "536366                                  0.0                             0.0   \n",
       "536367                                  0.0                             0.0   \n",
       "536368                                  0.0                             0.0   \n",
       "536369                                  0.0                             0.0   \n",
       "\n",
       "Description   DOLLY GIRL BEAKER   I LOVE LONDON MINI BACKPACK  \\\n",
       "InvoiceNo                                                       \n",
       "536365                      0.0                           0.0   \n",
       "536366                      0.0                           0.0   \n",
       "536367                      0.0                           0.0   \n",
       "536368                      0.0                           0.0   \n",
       "536369                      0.0                           0.0   \n",
       "\n",
       "Description   NINE DRAWER OFFICE TIDY   OVAL WALL MIRROR DIAMANTE   \\\n",
       "InvoiceNo                                                            \n",
       "536365                            0.0                          0.0   \n",
       "536366                            0.0                          0.0   \n",
       "536367                            0.0                          0.0   \n",
       "536368                            0.0                          0.0   \n",
       "536369                            0.0                          0.0   \n",
       "\n",
       "Description   RED SPOT GIFT BAG LARGE   SET 2 TEA TOWELS I LOVE LONDON   \\\n",
       "InvoiceNo                                                                 \n",
       "536365                            0.0                               0.0   \n",
       "536366                            0.0                               0.0   \n",
       "536367                            0.0                               0.0   \n",
       "536368                            0.0                               0.0   \n",
       "536369                            0.0                               0.0   \n",
       "\n",
       "Description   SPACEBOY BABY GIFT SET   TOADSTOOL BEDSIDE LIGHT   ...  \\\n",
       "InvoiceNo                                                        ...   \n",
       "536365                           0.0                        0.0  ...   \n",
       "536366                           0.0                        0.0  ...   \n",
       "536367                           0.0                        0.0  ...   \n",
       "536368                           0.0                        0.0  ...   \n",
       "536369                           0.0                        0.0  ...   \n",
       "\n",
       "Description  ZINC STAR T-LIGHT HOLDER   ZINC SWEETHEART SOAP DISH  \\\n",
       "InvoiceNo                                                           \n",
       "536365                             0.0                        0.0   \n",
       "536366                             0.0                        0.0   \n",
       "536367                             0.0                        0.0   \n",
       "536368                             0.0                        0.0   \n",
       "536369                             0.0                        0.0   \n",
       "\n",
       "Description  ZINC SWEETHEART WIRE LETTER RACK  ZINC T-LIGHT HOLDER STAR LARGE  \\\n",
       "InvoiceNo                                                                       \n",
       "536365                                    0.0                             0.0   \n",
       "536366                                    0.0                             0.0   \n",
       "536367                                    0.0                             0.0   \n",
       "536368                                    0.0                             0.0   \n",
       "536369                                    0.0                             0.0   \n",
       "\n",
       "Description  ZINC T-LIGHT HOLDER STARS LARGE  ZINC T-LIGHT HOLDER STARS SMALL  \\\n",
       "InvoiceNo                                                                       \n",
       "536365                                   0.0                              0.0   \n",
       "536366                                   0.0                              0.0   \n",
       "536367                                   0.0                              0.0   \n",
       "536368                                   0.0                              0.0   \n",
       "536369                                   0.0                              0.0   \n",
       "\n",
       "Description  ZINC TOP  2 DOOR WOODEN SHELF   ZINC WILLIE WINKIE  CANDLE STICK  \\\n",
       "InvoiceNo                                                                       \n",
       "536365                                  0.0                               0.0   \n",
       "536366                                  0.0                               0.0   \n",
       "536367                                  0.0                               0.0   \n",
       "536368                                  0.0                               0.0   \n",
       "536369                                  0.0                               0.0   \n",
       "\n",
       "Description  ZINC WIRE KITCHEN ORGANISER  ZINC WIRE SWEETHEART LETTER TRAY  \n",
       "InvoiceNo                                                                   \n",
       "536365                               0.0                               0.0  \n",
       "536366                               0.0                               0.0  \n",
       "536367                               0.0                               0.0  \n",
       "536368                               0.0                               0.0  \n",
       "536369                               0.0                               0.0  \n",
       "\n",
       "[5 rows x 3844 columns]"
      ]
     },
     "execution_count": 81,
     "metadata": {},
     "output_type": "execute_result"
    }
   ],
   "source": [
    "item_count = uk.groupby(['InvoiceNo', 'Description'])['Quantity'].sum().unstack()\n",
    "item_count=item_count.reset_index()\n",
    "item_count=item_count.fillna(0).set_index('InvoiceNo')\n",
    "item_count.head()"
   ]
  },
  {
   "cell_type": "markdown",
   "id": "cd59a35f",
   "metadata": {},
   "source": [
    "A apriori() only accepts one hot encoded dataframes, we will have to perform the same on our dataset."
   ]
  },
  {
   "cell_type": "code",
   "execution_count": 82,
   "id": "b152fa3f",
   "metadata": {},
   "outputs": [],
   "source": [
    "#function for one hot encoding\n",
    "def encode(val):\n",
    "    if val > 0:\n",
    "        return 1 #represents customer has purchased it\n",
    "    else:\n",
    "        return 0 #represents customer didn't purchase it"
   ]
  },
  {
   "cell_type": "code",
   "execution_count": 83,
   "id": "584938a9",
   "metadata": {
    "scrolled": true
   },
   "outputs": [
    {
     "data": {
      "text/html": [
       "<div>\n",
       "<style scoped>\n",
       "    .dataframe tbody tr th:only-of-type {\n",
       "        vertical-align: middle;\n",
       "    }\n",
       "\n",
       "    .dataframe tbody tr th {\n",
       "        vertical-align: top;\n",
       "    }\n",
       "\n",
       "    .dataframe thead th {\n",
       "        text-align: right;\n",
       "    }\n",
       "</style>\n",
       "<table border=\"1\" class=\"dataframe\">\n",
       "  <thead>\n",
       "    <tr style=\"text-align: right;\">\n",
       "      <th>Description</th>\n",
       "      <th>4 PURPLE FLOCK DINNER CANDLES</th>\n",
       "      <th>50'S CHRISTMAS GIFT BAG LARGE</th>\n",
       "      <th>DOLLY GIRL BEAKER</th>\n",
       "      <th>I LOVE LONDON MINI BACKPACK</th>\n",
       "      <th>NINE DRAWER OFFICE TIDY</th>\n",
       "      <th>OVAL WALL MIRROR DIAMANTE</th>\n",
       "      <th>RED SPOT GIFT BAG LARGE</th>\n",
       "      <th>SET 2 TEA TOWELS I LOVE LONDON</th>\n",
       "      <th>SPACEBOY BABY GIFT SET</th>\n",
       "      <th>TOADSTOOL BEDSIDE LIGHT</th>\n",
       "      <th>...</th>\n",
       "      <th>ZINC STAR T-LIGHT HOLDER</th>\n",
       "      <th>ZINC SWEETHEART SOAP DISH</th>\n",
       "      <th>ZINC SWEETHEART WIRE LETTER RACK</th>\n",
       "      <th>ZINC T-LIGHT HOLDER STAR LARGE</th>\n",
       "      <th>ZINC T-LIGHT HOLDER STARS LARGE</th>\n",
       "      <th>ZINC T-LIGHT HOLDER STARS SMALL</th>\n",
       "      <th>ZINC TOP  2 DOOR WOODEN SHELF</th>\n",
       "      <th>ZINC WILLIE WINKIE  CANDLE STICK</th>\n",
       "      <th>ZINC WIRE KITCHEN ORGANISER</th>\n",
       "      <th>ZINC WIRE SWEETHEART LETTER TRAY</th>\n",
       "    </tr>\n",
       "    <tr>\n",
       "      <th>InvoiceNo</th>\n",
       "      <th></th>\n",
       "      <th></th>\n",
       "      <th></th>\n",
       "      <th></th>\n",
       "      <th></th>\n",
       "      <th></th>\n",
       "      <th></th>\n",
       "      <th></th>\n",
       "      <th></th>\n",
       "      <th></th>\n",
       "      <th></th>\n",
       "      <th></th>\n",
       "      <th></th>\n",
       "      <th></th>\n",
       "      <th></th>\n",
       "      <th></th>\n",
       "      <th></th>\n",
       "      <th></th>\n",
       "      <th></th>\n",
       "      <th></th>\n",
       "      <th></th>\n",
       "    </tr>\n",
       "  </thead>\n",
       "  <tbody>\n",
       "    <tr>\n",
       "      <th>536365</th>\n",
       "      <td>0</td>\n",
       "      <td>0</td>\n",
       "      <td>0</td>\n",
       "      <td>0</td>\n",
       "      <td>0</td>\n",
       "      <td>0</td>\n",
       "      <td>0</td>\n",
       "      <td>0</td>\n",
       "      <td>0</td>\n",
       "      <td>0</td>\n",
       "      <td>...</td>\n",
       "      <td>0</td>\n",
       "      <td>0</td>\n",
       "      <td>0</td>\n",
       "      <td>0</td>\n",
       "      <td>0</td>\n",
       "      <td>0</td>\n",
       "      <td>0</td>\n",
       "      <td>0</td>\n",
       "      <td>0</td>\n",
       "      <td>0</td>\n",
       "    </tr>\n",
       "    <tr>\n",
       "      <th>536366</th>\n",
       "      <td>0</td>\n",
       "      <td>0</td>\n",
       "      <td>0</td>\n",
       "      <td>0</td>\n",
       "      <td>0</td>\n",
       "      <td>0</td>\n",
       "      <td>0</td>\n",
       "      <td>0</td>\n",
       "      <td>0</td>\n",
       "      <td>0</td>\n",
       "      <td>...</td>\n",
       "      <td>0</td>\n",
       "      <td>0</td>\n",
       "      <td>0</td>\n",
       "      <td>0</td>\n",
       "      <td>0</td>\n",
       "      <td>0</td>\n",
       "      <td>0</td>\n",
       "      <td>0</td>\n",
       "      <td>0</td>\n",
       "      <td>0</td>\n",
       "    </tr>\n",
       "    <tr>\n",
       "      <th>536367</th>\n",
       "      <td>0</td>\n",
       "      <td>0</td>\n",
       "      <td>0</td>\n",
       "      <td>0</td>\n",
       "      <td>0</td>\n",
       "      <td>0</td>\n",
       "      <td>0</td>\n",
       "      <td>0</td>\n",
       "      <td>0</td>\n",
       "      <td>0</td>\n",
       "      <td>...</td>\n",
       "      <td>0</td>\n",
       "      <td>0</td>\n",
       "      <td>0</td>\n",
       "      <td>0</td>\n",
       "      <td>0</td>\n",
       "      <td>0</td>\n",
       "      <td>0</td>\n",
       "      <td>0</td>\n",
       "      <td>0</td>\n",
       "      <td>0</td>\n",
       "    </tr>\n",
       "    <tr>\n",
       "      <th>536368</th>\n",
       "      <td>0</td>\n",
       "      <td>0</td>\n",
       "      <td>0</td>\n",
       "      <td>0</td>\n",
       "      <td>0</td>\n",
       "      <td>0</td>\n",
       "      <td>0</td>\n",
       "      <td>0</td>\n",
       "      <td>0</td>\n",
       "      <td>0</td>\n",
       "      <td>...</td>\n",
       "      <td>0</td>\n",
       "      <td>0</td>\n",
       "      <td>0</td>\n",
       "      <td>0</td>\n",
       "      <td>0</td>\n",
       "      <td>0</td>\n",
       "      <td>0</td>\n",
       "      <td>0</td>\n",
       "      <td>0</td>\n",
       "      <td>0</td>\n",
       "    </tr>\n",
       "    <tr>\n",
       "      <th>536369</th>\n",
       "      <td>0</td>\n",
       "      <td>0</td>\n",
       "      <td>0</td>\n",
       "      <td>0</td>\n",
       "      <td>0</td>\n",
       "      <td>0</td>\n",
       "      <td>0</td>\n",
       "      <td>0</td>\n",
       "      <td>0</td>\n",
       "      <td>0</td>\n",
       "      <td>...</td>\n",
       "      <td>0</td>\n",
       "      <td>0</td>\n",
       "      <td>0</td>\n",
       "      <td>0</td>\n",
       "      <td>0</td>\n",
       "      <td>0</td>\n",
       "      <td>0</td>\n",
       "      <td>0</td>\n",
       "      <td>0</td>\n",
       "      <td>0</td>\n",
       "    </tr>\n",
       "  </tbody>\n",
       "</table>\n",
       "<p>5 rows × 3844 columns</p>\n",
       "</div>"
      ],
      "text/plain": [
       "Description   4 PURPLE FLOCK DINNER CANDLES   50'S CHRISTMAS GIFT BAG LARGE  \\\n",
       "InvoiceNo                                                                     \n",
       "536365                                    0                               0   \n",
       "536366                                    0                               0   \n",
       "536367                                    0                               0   \n",
       "536368                                    0                               0   \n",
       "536369                                    0                               0   \n",
       "\n",
       "Description   DOLLY GIRL BEAKER   I LOVE LONDON MINI BACKPACK  \\\n",
       "InvoiceNo                                                       \n",
       "536365                        0                             0   \n",
       "536366                        0                             0   \n",
       "536367                        0                             0   \n",
       "536368                        0                             0   \n",
       "536369                        0                             0   \n",
       "\n",
       "Description   NINE DRAWER OFFICE TIDY   OVAL WALL MIRROR DIAMANTE   \\\n",
       "InvoiceNo                                                            \n",
       "536365                              0                            0   \n",
       "536366                              0                            0   \n",
       "536367                              0                            0   \n",
       "536368                              0                            0   \n",
       "536369                              0                            0   \n",
       "\n",
       "Description   RED SPOT GIFT BAG LARGE   SET 2 TEA TOWELS I LOVE LONDON   \\\n",
       "InvoiceNo                                                                 \n",
       "536365                              0                                 0   \n",
       "536366                              0                                 0   \n",
       "536367                              0                                 0   \n",
       "536368                              0                                 0   \n",
       "536369                              0                                 0   \n",
       "\n",
       "Description   SPACEBOY BABY GIFT SET   TOADSTOOL BEDSIDE LIGHT   ...  \\\n",
       "InvoiceNo                                                        ...   \n",
       "536365                             0                          0  ...   \n",
       "536366                             0                          0  ...   \n",
       "536367                             0                          0  ...   \n",
       "536368                             0                          0  ...   \n",
       "536369                             0                          0  ...   \n",
       "\n",
       "Description  ZINC STAR T-LIGHT HOLDER   ZINC SWEETHEART SOAP DISH  \\\n",
       "InvoiceNo                                                           \n",
       "536365                               0                          0   \n",
       "536366                               0                          0   \n",
       "536367                               0                          0   \n",
       "536368                               0                          0   \n",
       "536369                               0                          0   \n",
       "\n",
       "Description  ZINC SWEETHEART WIRE LETTER RACK  ZINC T-LIGHT HOLDER STAR LARGE  \\\n",
       "InvoiceNo                                                                       \n",
       "536365                                      0                               0   \n",
       "536366                                      0                               0   \n",
       "536367                                      0                               0   \n",
       "536368                                      0                               0   \n",
       "536369                                      0                               0   \n",
       "\n",
       "Description  ZINC T-LIGHT HOLDER STARS LARGE  ZINC T-LIGHT HOLDER STARS SMALL  \\\n",
       "InvoiceNo                                                                       \n",
       "536365                                     0                                0   \n",
       "536366                                     0                                0   \n",
       "536367                                     0                                0   \n",
       "536368                                     0                                0   \n",
       "536369                                     0                                0   \n",
       "\n",
       "Description  ZINC TOP  2 DOOR WOODEN SHELF   ZINC WILLIE WINKIE  CANDLE STICK  \\\n",
       "InvoiceNo                                                                       \n",
       "536365                                    0                                 0   \n",
       "536366                                    0                                 0   \n",
       "536367                                    0                                 0   \n",
       "536368                                    0                                 0   \n",
       "536369                                    0                                 0   \n",
       "\n",
       "Description  ZINC WIRE KITCHEN ORGANISER  ZINC WIRE SWEETHEART LETTER TRAY  \n",
       "InvoiceNo                                                                   \n",
       "536365                                 0                                 0  \n",
       "536366                                 0                                 0  \n",
       "536367                                 0                                 0  \n",
       "536368                                 0                                 0  \n",
       "536369                                 0                                 0  \n",
       "\n",
       "[5 rows x 3844 columns]"
      ]
     },
     "execution_count": 83,
     "metadata": {},
     "output_type": "execute_result"
    }
   ],
   "source": [
    "basket = item_count.applymap(encode)#apply function encode\n",
    "basket.head()"
   ]
  },
  {
   "cell_type": "markdown",
   "id": "7d23b733",
   "metadata": {},
   "source": [
    "#### Support"
   ]
  },
  {
   "cell_type": "markdown",
   "id": "93187432",
   "metadata": {},
   "source": [
    "Support gives us information about the number of times a product has been purchased throughout all transactions."
   ]
  },
  {
   "cell_type": "code",
   "execution_count": 84,
   "id": "f51188ac",
   "metadata": {},
   "outputs": [
    {
     "data": {
      "text/html": [
       "<div>\n",
       "<style scoped>\n",
       "    .dataframe tbody tr th:only-of-type {\n",
       "        vertical-align: middle;\n",
       "    }\n",
       "\n",
       "    .dataframe tbody tr th {\n",
       "        vertical-align: top;\n",
       "    }\n",
       "\n",
       "    .dataframe thead th {\n",
       "        text-align: right;\n",
       "    }\n",
       "</style>\n",
       "<table border=\"1\" class=\"dataframe\">\n",
       "  <thead>\n",
       "    <tr style=\"text-align: right;\">\n",
       "      <th></th>\n",
       "      <th>support</th>\n",
       "      <th>itemsets</th>\n",
       "    </tr>\n",
       "  </thead>\n",
       "  <tbody>\n",
       "    <tr>\n",
       "      <th>184</th>\n",
       "      <td>0.113160</td>\n",
       "      <td>(WHITE HANGING HEART T-LIGHT HOLDER)</td>\n",
       "    </tr>\n",
       "    <tr>\n",
       "      <th>79</th>\n",
       "      <td>0.086912</td>\n",
       "      <td>(JUMBO BAG RED RETROSPOT)</td>\n",
       "    </tr>\n",
       "    <tr>\n",
       "      <th>149</th>\n",
       "      <td>0.084690</td>\n",
       "      <td>(REGENCY CAKESTAND 3 TIER)</td>\n",
       "    </tr>\n",
       "    <tr>\n",
       "      <th>11</th>\n",
       "      <td>0.078083</td>\n",
       "      <td>(ASSORTED COLOUR BIRD ORNAMENT)</td>\n",
       "    </tr>\n",
       "    <tr>\n",
       "      <th>123</th>\n",
       "      <td>0.077542</td>\n",
       "      <td>(PARTY BUNTING)</td>\n",
       "    </tr>\n",
       "    <tr>\n",
       "      <th>...</th>\n",
       "      <td>...</td>\n",
       "      <td>...</td>\n",
       "    </tr>\n",
       "    <tr>\n",
       "      <th>117</th>\n",
       "      <td>0.020121</td>\n",
       "      <td>(PAINTED METAL PEARS ASSORTED)</td>\n",
       "    </tr>\n",
       "    <tr>\n",
       "      <th>221</th>\n",
       "      <td>0.020061</td>\n",
       "      <td>(LUNCH BAG SPACEBOY DESIGN , LUNCH BAG PINK PO...</td>\n",
       "    </tr>\n",
       "    <tr>\n",
       "      <th>42</th>\n",
       "      <td>0.020061</td>\n",
       "      <td>(FELTCRAFT PRINCESS LOLA DOLL)</td>\n",
       "    </tr>\n",
       "    <tr>\n",
       "      <th>222</th>\n",
       "      <td>0.020001</td>\n",
       "      <td>(LUNCH BAG SUKI DESIGN , LUNCH BAG PINK POLKADOT)</td>\n",
       "    </tr>\n",
       "    <tr>\n",
       "      <th>215</th>\n",
       "      <td>0.020001</td>\n",
       "      <td>(LUNCH BAG RED RETROSPOT, LUNCH BAG APPLE DESIGN)</td>\n",
       "    </tr>\n",
       "  </tbody>\n",
       "</table>\n",
       "<p>235 rows × 2 columns</p>\n",
       "</div>"
      ],
      "text/plain": [
       "      support                                           itemsets\n",
       "184  0.113160               (WHITE HANGING HEART T-LIGHT HOLDER)\n",
       "79   0.086912                          (JUMBO BAG RED RETROSPOT)\n",
       "149  0.084690                         (REGENCY CAKESTAND 3 TIER)\n",
       "11   0.078083                    (ASSORTED COLOUR BIRD ORNAMENT)\n",
       "123  0.077542                                    (PARTY BUNTING)\n",
       "..        ...                                                ...\n",
       "117  0.020121                     (PAINTED METAL PEARS ASSORTED)\n",
       "221  0.020061  (LUNCH BAG SPACEBOY DESIGN , LUNCH BAG PINK PO...\n",
       "42   0.020061                     (FELTCRAFT PRINCESS LOLA DOLL)\n",
       "222  0.020001  (LUNCH BAG SUKI DESIGN , LUNCH BAG PINK POLKADOT)\n",
       "215  0.020001  (LUNCH BAG RED RETROSPOT, LUNCH BAG APPLE DESIGN)\n",
       "\n",
       "[235 rows x 2 columns]"
      ]
     },
     "execution_count": 84,
     "metadata": {},
     "output_type": "execute_result"
    }
   ],
   "source": [
    "products = apriori(basket, min_support=0.02, use_colnames=True).sort_values('support', ascending=False) #calling apriori algorithm\n",
    "products"
   ]
  },
  {
   "cell_type": "code",
   "execution_count": 85,
   "id": "801f61d3",
   "metadata": {},
   "outputs": [
    {
     "data": {
      "text/html": [
       "<div>\n",
       "<style scoped>\n",
       "    .dataframe tbody tr th:only-of-type {\n",
       "        vertical-align: middle;\n",
       "    }\n",
       "\n",
       "    .dataframe tbody tr th {\n",
       "        vertical-align: top;\n",
       "    }\n",
       "\n",
       "    .dataframe thead th {\n",
       "        text-align: right;\n",
       "    }\n",
       "</style>\n",
       "<table border=\"1\" class=\"dataframe\">\n",
       "  <thead>\n",
       "    <tr style=\"text-align: right;\">\n",
       "      <th></th>\n",
       "      <th>support</th>\n",
       "      <th>itemsets</th>\n",
       "      <th>length</th>\n",
       "    </tr>\n",
       "  </thead>\n",
       "  <tbody>\n",
       "    <tr>\n",
       "      <th>234</th>\n",
       "      <td>0.020482</td>\n",
       "      <td>(PINK REGENCY TEACUP AND SAUCER, ROSES REGENCY...</td>\n",
       "      <td>3</td>\n",
       "    </tr>\n",
       "  </tbody>\n",
       "</table>\n",
       "</div>"
      ],
      "text/plain": [
       "      support                                           itemsets  length\n",
       "234  0.020482  (PINK REGENCY TEACUP AND SAUCER, ROSES REGENCY...       3"
      ]
     },
     "metadata": {},
     "output_type": "display_data"
    }
   ],
   "source": [
    "#filtering items with length greater than 3 which indicates that they had been purchased together\n",
    "products['length'] = products['itemsets'].apply(lambda x: len(x))\n",
    "products.head()\n",
    "display(products[products['length'] >= 3])"
   ]
  },
  {
   "cell_type": "markdown",
   "id": "0486f690",
   "metadata": {},
   "source": [
    "For association rules, metric can be either confidence or lift."
   ]
  },
  {
   "cell_type": "markdown",
   "id": "43132aaf",
   "metadata": {},
   "source": [
    "#### Confidence"
   ]
  },
  {
   "cell_type": "markdown",
   "id": "5e70deb1",
   "metadata": {},
   "source": [
    "It gives us information about the likeliness of a product being purchased if another product is being purchased. e.g. if product A was purchased then how likely is it that product B will be bought?"
   ]
  },
  {
   "cell_type": "code",
   "execution_count": 86,
   "id": "7c1483af",
   "metadata": {},
   "outputs": [
    {
     "data": {
      "text/html": [
       "<div>\n",
       "<style scoped>\n",
       "    .dataframe tbody tr th:only-of-type {\n",
       "        vertical-align: middle;\n",
       "    }\n",
       "\n",
       "    .dataframe tbody tr th {\n",
       "        vertical-align: top;\n",
       "    }\n",
       "\n",
       "    .dataframe thead th {\n",
       "        text-align: right;\n",
       "    }\n",
       "</style>\n",
       "<table border=\"1\" class=\"dataframe\">\n",
       "  <thead>\n",
       "    <tr style=\"text-align: right;\">\n",
       "      <th></th>\n",
       "      <th>antecedents</th>\n",
       "      <th>consequents</th>\n",
       "      <th>antecedent support</th>\n",
       "      <th>consequent support</th>\n",
       "      <th>support</th>\n",
       "      <th>confidence</th>\n",
       "      <th>lift</th>\n",
       "      <th>leverage</th>\n",
       "      <th>conviction</th>\n",
       "    </tr>\n",
       "  </thead>\n",
       "  <tbody>\n",
       "    <tr>\n",
       "      <th>0</th>\n",
       "      <td>(JUMBO BAG PINK POLKADOT)</td>\n",
       "      <td>(JUMBO BAG RED RETROSPOT)</td>\n",
       "      <td>0.048772</td>\n",
       "      <td>0.086912</td>\n",
       "      <td>0.030392</td>\n",
       "      <td>0.623153</td>\n",
       "      <td>7.169917</td>\n",
       "      <td>0.026153</td>\n",
       "      <td>2.422965</td>\n",
       "    </tr>\n",
       "    <tr>\n",
       "      <th>1</th>\n",
       "      <td>(ROSES REGENCY TEACUP AND SAUCER )</td>\n",
       "      <td>(GREEN REGENCY TEACUP AND SAUCER)</td>\n",
       "      <td>0.040723</td>\n",
       "      <td>0.036759</td>\n",
       "      <td>0.028590</td>\n",
       "      <td>0.702065</td>\n",
       "      <td>19.099148</td>\n",
       "      <td>0.027093</td>\n",
       "      <td>3.233057</td>\n",
       "    </tr>\n",
       "    <tr>\n",
       "      <th>2</th>\n",
       "      <td>(GREEN REGENCY TEACUP AND SAUCER)</td>\n",
       "      <td>(ROSES REGENCY TEACUP AND SAUCER )</td>\n",
       "      <td>0.036759</td>\n",
       "      <td>0.040723</td>\n",
       "      <td>0.028590</td>\n",
       "      <td>0.777778</td>\n",
       "      <td>19.099148</td>\n",
       "      <td>0.027093</td>\n",
       "      <td>4.316746</td>\n",
       "    </tr>\n",
       "    <tr>\n",
       "      <th>3</th>\n",
       "      <td>(LUNCH BAG PINK POLKADOT)</td>\n",
       "      <td>(LUNCH BAG RED RETROSPOT)</td>\n",
       "      <td>0.050934</td>\n",
       "      <td>0.067271</td>\n",
       "      <td>0.028290</td>\n",
       "      <td>0.555425</td>\n",
       "      <td>8.256485</td>\n",
       "      <td>0.024864</td>\n",
       "      <td>2.098021</td>\n",
       "    </tr>\n",
       "    <tr>\n",
       "      <th>4</th>\n",
       "      <td>(GARDENERS KNEELING PAD KEEP CALM )</td>\n",
       "      <td>(GARDENERS KNEELING PAD CUP OF TEA )</td>\n",
       "      <td>0.044567</td>\n",
       "      <td>0.037660</td>\n",
       "      <td>0.027509</td>\n",
       "      <td>0.617251</td>\n",
       "      <td>16.390122</td>\n",
       "      <td>0.025831</td>\n",
       "      <td>2.514283</td>\n",
       "    </tr>\n",
       "  </tbody>\n",
       "</table>\n",
       "</div>"
      ],
      "text/plain": [
       "                           antecedents                           consequents  \\\n",
       "0            (JUMBO BAG PINK POLKADOT)             (JUMBO BAG RED RETROSPOT)   \n",
       "1   (ROSES REGENCY TEACUP AND SAUCER )     (GREEN REGENCY TEACUP AND SAUCER)   \n",
       "2    (GREEN REGENCY TEACUP AND SAUCER)    (ROSES REGENCY TEACUP AND SAUCER )   \n",
       "3            (LUNCH BAG PINK POLKADOT)             (LUNCH BAG RED RETROSPOT)   \n",
       "4  (GARDENERS KNEELING PAD KEEP CALM )  (GARDENERS KNEELING PAD CUP OF TEA )   \n",
       "\n",
       "   antecedent support  consequent support   support  confidence       lift  \\\n",
       "0            0.048772            0.086912  0.030392    0.623153   7.169917   \n",
       "1            0.040723            0.036759  0.028590    0.702065  19.099148   \n",
       "2            0.036759            0.040723  0.028590    0.777778  19.099148   \n",
       "3            0.050934            0.067271  0.028290    0.555425   8.256485   \n",
       "4            0.044567            0.037660  0.027509    0.617251  16.390122   \n",
       "\n",
       "   leverage  conviction  \n",
       "0  0.026153    2.422965  \n",
       "1  0.027093    3.233057  \n",
       "2  0.027093    4.316746  \n",
       "3  0.024864    2.098021  \n",
       "4  0.025831    2.514283  "
      ]
     },
     "execution_count": 86,
     "metadata": {},
     "output_type": "execute_result"
    }
   ],
   "source": [
    "conf = association_rules(products, metric=\"confidence\", min_threshold=0.5)\n",
    "conf.head()"
   ]
  },
  {
   "cell_type": "markdown",
   "id": "55718857",
   "metadata": {},
   "source": [
    "#### Lift"
   ]
  },
  {
   "cell_type": "markdown",
   "id": "cb0ff5e1",
   "metadata": {},
   "source": [
    "Lift gives information about how likely are items bought together as compared to being purchased individually."
   ]
  },
  {
   "cell_type": "code",
   "execution_count": 87,
   "id": "14f4c7f2",
   "metadata": {
    "scrolled": true
   },
   "outputs": [
    {
     "data": {
      "text/html": [
       "<div>\n",
       "<style scoped>\n",
       "    .dataframe tbody tr th:only-of-type {\n",
       "        vertical-align: middle;\n",
       "    }\n",
       "\n",
       "    .dataframe tbody tr th {\n",
       "        vertical-align: top;\n",
       "    }\n",
       "\n",
       "    .dataframe thead th {\n",
       "        text-align: right;\n",
       "    }\n",
       "</style>\n",
       "<table border=\"1\" class=\"dataframe\">\n",
       "  <thead>\n",
       "    <tr style=\"text-align: right;\">\n",
       "      <th></th>\n",
       "      <th>antecedents</th>\n",
       "      <th>consequents</th>\n",
       "      <th>antecedent support</th>\n",
       "      <th>consequent support</th>\n",
       "      <th>support</th>\n",
       "      <th>confidence</th>\n",
       "      <th>lift</th>\n",
       "      <th>leverage</th>\n",
       "      <th>conviction</th>\n",
       "    </tr>\n",
       "  </thead>\n",
       "  <tbody>\n",
       "    <tr>\n",
       "      <th>0</th>\n",
       "      <td>(JUMBO BAG RED RETROSPOT)</td>\n",
       "      <td>(JUMBO BAG PINK POLKADOT)</td>\n",
       "      <td>0.086912</td>\n",
       "      <td>0.048772</td>\n",
       "      <td>0.030392</td>\n",
       "      <td>0.349689</td>\n",
       "      <td>7.169917</td>\n",
       "      <td>0.026153</td>\n",
       "      <td>1.462728</td>\n",
       "    </tr>\n",
       "    <tr>\n",
       "      <th>1</th>\n",
       "      <td>(JUMBO BAG PINK POLKADOT)</td>\n",
       "      <td>(JUMBO BAG RED RETROSPOT)</td>\n",
       "      <td>0.048772</td>\n",
       "      <td>0.086912</td>\n",
       "      <td>0.030392</td>\n",
       "      <td>0.623153</td>\n",
       "      <td>7.169917</td>\n",
       "      <td>0.026153</td>\n",
       "      <td>2.422965</td>\n",
       "    </tr>\n",
       "    <tr>\n",
       "      <th>2</th>\n",
       "      <td>(LUNCH BAG RED RETROSPOT)</td>\n",
       "      <td>(LUNCH BAG  BLACK SKULL.)</td>\n",
       "      <td>0.067271</td>\n",
       "      <td>0.059823</td>\n",
       "      <td>0.029071</td>\n",
       "      <td>0.432143</td>\n",
       "      <td>7.223641</td>\n",
       "      <td>0.025046</td>\n",
       "      <td>1.655657</td>\n",
       "    </tr>\n",
       "    <tr>\n",
       "      <th>3</th>\n",
       "      <td>(LUNCH BAG  BLACK SKULL.)</td>\n",
       "      <td>(LUNCH BAG RED RETROSPOT)</td>\n",
       "      <td>0.059823</td>\n",
       "      <td>0.067271</td>\n",
       "      <td>0.029071</td>\n",
       "      <td>0.485944</td>\n",
       "      <td>7.223641</td>\n",
       "      <td>0.025046</td>\n",
       "      <td>1.814449</td>\n",
       "    </tr>\n",
       "    <tr>\n",
       "      <th>4</th>\n",
       "      <td>(ROSES REGENCY TEACUP AND SAUCER )</td>\n",
       "      <td>(GREEN REGENCY TEACUP AND SAUCER)</td>\n",
       "      <td>0.040723</td>\n",
       "      <td>0.036759</td>\n",
       "      <td>0.028590</td>\n",
       "      <td>0.702065</td>\n",
       "      <td>19.099148</td>\n",
       "      <td>0.027093</td>\n",
       "      <td>3.233057</td>\n",
       "    </tr>\n",
       "  </tbody>\n",
       "</table>\n",
       "</div>"
      ],
      "text/plain": [
       "                          antecedents                        consequents  \\\n",
       "0           (JUMBO BAG RED RETROSPOT)          (JUMBO BAG PINK POLKADOT)   \n",
       "1           (JUMBO BAG PINK POLKADOT)          (JUMBO BAG RED RETROSPOT)   \n",
       "2           (LUNCH BAG RED RETROSPOT)          (LUNCH BAG  BLACK SKULL.)   \n",
       "3           (LUNCH BAG  BLACK SKULL.)          (LUNCH BAG RED RETROSPOT)   \n",
       "4  (ROSES REGENCY TEACUP AND SAUCER )  (GREEN REGENCY TEACUP AND SAUCER)   \n",
       "\n",
       "   antecedent support  consequent support   support  confidence       lift  \\\n",
       "0            0.086912            0.048772  0.030392    0.349689   7.169917   \n",
       "1            0.048772            0.086912  0.030392    0.623153   7.169917   \n",
       "2            0.067271            0.059823  0.029071    0.432143   7.223641   \n",
       "3            0.059823            0.067271  0.029071    0.485944   7.223641   \n",
       "4            0.040723            0.036759  0.028590    0.702065  19.099148   \n",
       "\n",
       "   leverage  conviction  \n",
       "0  0.026153    1.462728  \n",
       "1  0.026153    2.422965  \n",
       "2  0.025046    1.655657  \n",
       "3  0.025046    1.814449  \n",
       "4  0.027093    3.233057  "
      ]
     },
     "execution_count": 87,
     "metadata": {},
     "output_type": "execute_result"
    }
   ],
   "source": [
    "rule = association_rules(products, metric=\"lift\", min_threshold=1)\n",
    "rule.head()"
   ]
  },
  {
   "cell_type": "markdown",
   "id": "9a5bdaf3",
   "metadata": {},
   "source": [
    "From the table above we can see that if ALARM CLOCK BAKELIKE GREEN is purchased then ALARM CLOCK BAKELIKE RED will also be purchased. The table groups up all the items which have a possibility of being purchased together."
   ]
  },
  {
   "cell_type": "markdown",
   "id": "21bebe3e",
   "metadata": {},
   "source": [
    "#### Lift and Confidence"
   ]
  },
  {
   "cell_type": "code",
   "execution_count": 88,
   "id": "dbf56193",
   "metadata": {},
   "outputs": [
    {
     "data": {
      "text/html": [
       "<div>\n",
       "<style scoped>\n",
       "    .dataframe tbody tr th:only-of-type {\n",
       "        vertical-align: middle;\n",
       "    }\n",
       "\n",
       "    .dataframe tbody tr th {\n",
       "        vertical-align: top;\n",
       "    }\n",
       "\n",
       "    .dataframe thead th {\n",
       "        text-align: right;\n",
       "    }\n",
       "</style>\n",
       "<table border=\"1\" class=\"dataframe\">\n",
       "  <thead>\n",
       "    <tr style=\"text-align: right;\">\n",
       "      <th></th>\n",
       "      <th>antecedents</th>\n",
       "      <th>consequents</th>\n",
       "      <th>antecedent support</th>\n",
       "      <th>consequent support</th>\n",
       "      <th>support</th>\n",
       "      <th>confidence</th>\n",
       "      <th>lift</th>\n",
       "      <th>leverage</th>\n",
       "      <th>conviction</th>\n",
       "    </tr>\n",
       "  </thead>\n",
       "  <tbody>\n",
       "    <tr>\n",
       "      <th>1</th>\n",
       "      <td>(JUMBO BAG PINK POLKADOT)</td>\n",
       "      <td>(JUMBO BAG RED RETROSPOT)</td>\n",
       "      <td>0.048772</td>\n",
       "      <td>0.086912</td>\n",
       "      <td>0.030392</td>\n",
       "      <td>0.623153</td>\n",
       "      <td>7.169917</td>\n",
       "      <td>0.026153</td>\n",
       "      <td>2.422965</td>\n",
       "    </tr>\n",
       "    <tr>\n",
       "      <th>4</th>\n",
       "      <td>(ROSES REGENCY TEACUP AND SAUCER )</td>\n",
       "      <td>(GREEN REGENCY TEACUP AND SAUCER)</td>\n",
       "      <td>0.040723</td>\n",
       "      <td>0.036759</td>\n",
       "      <td>0.028590</td>\n",
       "      <td>0.702065</td>\n",
       "      <td>19.099148</td>\n",
       "      <td>0.027093</td>\n",
       "      <td>3.233057</td>\n",
       "    </tr>\n",
       "    <tr>\n",
       "      <th>5</th>\n",
       "      <td>(GREEN REGENCY TEACUP AND SAUCER)</td>\n",
       "      <td>(ROSES REGENCY TEACUP AND SAUCER )</td>\n",
       "      <td>0.036759</td>\n",
       "      <td>0.040723</td>\n",
       "      <td>0.028590</td>\n",
       "      <td>0.777778</td>\n",
       "      <td>19.099148</td>\n",
       "      <td>0.027093</td>\n",
       "      <td>4.316746</td>\n",
       "    </tr>\n",
       "    <tr>\n",
       "      <th>7</th>\n",
       "      <td>(LUNCH BAG PINK POLKADOT)</td>\n",
       "      <td>(LUNCH BAG RED RETROSPOT)</td>\n",
       "      <td>0.050934</td>\n",
       "      <td>0.067271</td>\n",
       "      <td>0.028290</td>\n",
       "      <td>0.555425</td>\n",
       "      <td>8.256485</td>\n",
       "      <td>0.024864</td>\n",
       "      <td>2.098021</td>\n",
       "    </tr>\n",
       "    <tr>\n",
       "      <th>8</th>\n",
       "      <td>(GARDENERS KNEELING PAD KEEP CALM )</td>\n",
       "      <td>(GARDENERS KNEELING PAD CUP OF TEA )</td>\n",
       "      <td>0.044567</td>\n",
       "      <td>0.037660</td>\n",
       "      <td>0.027509</td>\n",
       "      <td>0.617251</td>\n",
       "      <td>16.390122</td>\n",
       "      <td>0.025831</td>\n",
       "      <td>2.514283</td>\n",
       "    </tr>\n",
       "    <tr>\n",
       "      <th>9</th>\n",
       "      <td>(GARDENERS KNEELING PAD CUP OF TEA )</td>\n",
       "      <td>(GARDENERS KNEELING PAD KEEP CALM )</td>\n",
       "      <td>0.037660</td>\n",
       "      <td>0.044567</td>\n",
       "      <td>0.027509</td>\n",
       "      <td>0.730463</td>\n",
       "      <td>16.390122</td>\n",
       "      <td>0.025831</td>\n",
       "      <td>3.544712</td>\n",
       "    </tr>\n",
       "    <tr>\n",
       "      <th>10</th>\n",
       "      <td>(WOODEN PICTURE FRAME WHITE FINISH)</td>\n",
       "      <td>(WOODEN FRAME ANTIQUE WHITE )</td>\n",
       "      <td>0.051294</td>\n",
       "      <td>0.047090</td>\n",
       "      <td>0.027509</td>\n",
       "      <td>0.536300</td>\n",
       "      <td>11.388845</td>\n",
       "      <td>0.025094</td>\n",
       "      <td>2.055013</td>\n",
       "    </tr>\n",
       "    <tr>\n",
       "      <th>11</th>\n",
       "      <td>(WOODEN FRAME ANTIQUE WHITE )</td>\n",
       "      <td>(WOODEN PICTURE FRAME WHITE FINISH)</td>\n",
       "      <td>0.047090</td>\n",
       "      <td>0.051294</td>\n",
       "      <td>0.027509</td>\n",
       "      <td>0.584184</td>\n",
       "      <td>11.388845</td>\n",
       "      <td>0.025094</td>\n",
       "      <td>2.281550</td>\n",
       "    </tr>\n",
       "    <tr>\n",
       "      <th>12</th>\n",
       "      <td>(ALARM CLOCK BAKELIKE RED )</td>\n",
       "      <td>(ALARM CLOCK BAKELIKE GREEN)</td>\n",
       "      <td>0.045528</td>\n",
       "      <td>0.041444</td>\n",
       "      <td>0.027269</td>\n",
       "      <td>0.598945</td>\n",
       "      <td>14.451925</td>\n",
       "      <td>0.025382</td>\n",
       "      <td>2.390084</td>\n",
       "    </tr>\n",
       "    <tr>\n",
       "      <th>13</th>\n",
       "      <td>(ALARM CLOCK BAKELIKE GREEN)</td>\n",
       "      <td>(ALARM CLOCK BAKELIKE RED )</td>\n",
       "      <td>0.041444</td>\n",
       "      <td>0.045528</td>\n",
       "      <td>0.027269</td>\n",
       "      <td>0.657971</td>\n",
       "      <td>14.451925</td>\n",
       "      <td>0.025382</td>\n",
       "      <td>2.790617</td>\n",
       "    </tr>\n",
       "    <tr>\n",
       "      <th>15</th>\n",
       "      <td>(LUNCH BAG PINK POLKADOT)</td>\n",
       "      <td>(LUNCH BAG  BLACK SKULL.)</td>\n",
       "      <td>0.050934</td>\n",
       "      <td>0.059823</td>\n",
       "      <td>0.026548</td>\n",
       "      <td>0.521226</td>\n",
       "      <td>8.712750</td>\n",
       "      <td>0.023501</td>\n",
       "      <td>1.963719</td>\n",
       "    </tr>\n",
       "    <tr>\n",
       "      <th>17</th>\n",
       "      <td>(PAPER CHAIN KIT VINTAGE CHRISTMAS)</td>\n",
       "      <td>(PAPER CHAIN KIT 50'S CHRISTMAS )</td>\n",
       "      <td>0.040663</td>\n",
       "      <td>0.056760</td>\n",
       "      <td>0.026248</td>\n",
       "      <td>0.645495</td>\n",
       "      <td>11.372321</td>\n",
       "      <td>0.023940</td>\n",
       "      <td>2.660722</td>\n",
       "    </tr>\n",
       "    <tr>\n",
       "      <th>19</th>\n",
       "      <td>(RED HANGING HEART T-LIGHT HOLDER)</td>\n",
       "      <td>(WHITE HANGING HEART T-LIGHT HOLDER)</td>\n",
       "      <td>0.038561</td>\n",
       "      <td>0.113160</td>\n",
       "      <td>0.025707</td>\n",
       "      <td>0.666667</td>\n",
       "      <td>5.891366</td>\n",
       "      <td>0.021344</td>\n",
       "      <td>2.660520</td>\n",
       "    </tr>\n",
       "    <tr>\n",
       "      <th>26</th>\n",
       "      <td>(JUMBO STORAGE BAG SUKI)</td>\n",
       "      <td>(JUMBO BAG RED RETROSPOT)</td>\n",
       "      <td>0.043246</td>\n",
       "      <td>0.086912</td>\n",
       "      <td>0.024506</td>\n",
       "      <td>0.566667</td>\n",
       "      <td>6.519995</td>\n",
       "      <td>0.020747</td>\n",
       "      <td>2.107126</td>\n",
       "    </tr>\n",
       "    <tr>\n",
       "      <th>28</th>\n",
       "      <td>(PINK REGENCY TEACUP AND SAUCER)</td>\n",
       "      <td>(GREEN REGENCY TEACUP AND SAUCER)</td>\n",
       "      <td>0.029611</td>\n",
       "      <td>0.036759</td>\n",
       "      <td>0.024266</td>\n",
       "      <td>0.819473</td>\n",
       "      <td>22.293137</td>\n",
       "      <td>0.023177</td>\n",
       "      <td>5.335706</td>\n",
       "    </tr>\n",
       "    <tr>\n",
       "      <th>29</th>\n",
       "      <td>(GREEN REGENCY TEACUP AND SAUCER)</td>\n",
       "      <td>(PINK REGENCY TEACUP AND SAUCER)</td>\n",
       "      <td>0.036759</td>\n",
       "      <td>0.029611</td>\n",
       "      <td>0.024266</td>\n",
       "      <td>0.660131</td>\n",
       "      <td>22.293137</td>\n",
       "      <td>0.023177</td>\n",
       "      <td>2.855182</td>\n",
       "    </tr>\n",
       "    <tr>\n",
       "      <th>32</th>\n",
       "      <td>(HEART OF WICKER LARGE)</td>\n",
       "      <td>(HEART OF WICKER SMALL)</td>\n",
       "      <td>0.047510</td>\n",
       "      <td>0.055739</td>\n",
       "      <td>0.023905</td>\n",
       "      <td>0.503161</td>\n",
       "      <td>9.027069</td>\n",
       "      <td>0.021257</td>\n",
       "      <td>1.900535</td>\n",
       "    </tr>\n",
       "    <tr>\n",
       "      <th>37</th>\n",
       "      <td>(JUMBO BAG STRAWBERRY)</td>\n",
       "      <td>(JUMBO BAG RED RETROSPOT)</td>\n",
       "      <td>0.037360</td>\n",
       "      <td>0.086912</td>\n",
       "      <td>0.023725</td>\n",
       "      <td>0.635048</td>\n",
       "      <td>7.306785</td>\n",
       "      <td>0.020478</td>\n",
       "      <td>2.501941</td>\n",
       "    </tr>\n",
       "    <tr>\n",
       "      <th>42</th>\n",
       "      <td>(PINK REGENCY TEACUP AND SAUCER)</td>\n",
       "      <td>(ROSES REGENCY TEACUP AND SAUCER )</td>\n",
       "      <td>0.029611</td>\n",
       "      <td>0.040723</td>\n",
       "      <td>0.023004</td>\n",
       "      <td>0.776876</td>\n",
       "      <td>19.077010</td>\n",
       "      <td>0.021799</td>\n",
       "      <td>4.299304</td>\n",
       "    </tr>\n",
       "    <tr>\n",
       "      <th>43</th>\n",
       "      <td>(ROSES REGENCY TEACUP AND SAUCER )</td>\n",
       "      <td>(PINK REGENCY TEACUP AND SAUCER)</td>\n",
       "      <td>0.040723</td>\n",
       "      <td>0.029611</td>\n",
       "      <td>0.023004</td>\n",
       "      <td>0.564897</td>\n",
       "      <td>19.077010</td>\n",
       "      <td>0.021799</td>\n",
       "      <td>2.230249</td>\n",
       "    </tr>\n",
       "    <tr>\n",
       "      <th>49</th>\n",
       "      <td>(LUNCH BAG WOODLAND)</td>\n",
       "      <td>(LUNCH BAG RED RETROSPOT)</td>\n",
       "      <td>0.040483</td>\n",
       "      <td>0.067271</td>\n",
       "      <td>0.021863</td>\n",
       "      <td>0.540059</td>\n",
       "      <td>8.028079</td>\n",
       "      <td>0.019140</td>\n",
       "      <td>2.027933</td>\n",
       "    </tr>\n",
       "    <tr>\n",
       "      <th>56</th>\n",
       "      <td>(ROSES REGENCY TEACUP AND SAUCER )</td>\n",
       "      <td>(REGENCY CAKESTAND 3 TIER)</td>\n",
       "      <td>0.040723</td>\n",
       "      <td>0.084690</td>\n",
       "      <td>0.021142</td>\n",
       "      <td>0.519174</td>\n",
       "      <td>6.130304</td>\n",
       "      <td>0.017694</td>\n",
       "      <td>1.903621</td>\n",
       "    </tr>\n",
       "    <tr>\n",
       "      <th>61</th>\n",
       "      <td>(JUMBO  BAG BAROQUE BLACK WHITE)</td>\n",
       "      <td>(JUMBO BAG RED RETROSPOT)</td>\n",
       "      <td>0.037600</td>\n",
       "      <td>0.086912</td>\n",
       "      <td>0.020842</td>\n",
       "      <td>0.554313</td>\n",
       "      <td>6.377857</td>\n",
       "      <td>0.017574</td>\n",
       "      <td>2.048720</td>\n",
       "    </tr>\n",
       "    <tr>\n",
       "      <th>63</th>\n",
       "      <td>(LUNCH BAG WOODLAND)</td>\n",
       "      <td>(LUNCH BAG SPACEBOY DESIGN )</td>\n",
       "      <td>0.040483</td>\n",
       "      <td>0.052436</td>\n",
       "      <td>0.020782</td>\n",
       "      <td>0.513353</td>\n",
       "      <td>9.790167</td>\n",
       "      <td>0.018659</td>\n",
       "      <td>1.947129</td>\n",
       "    </tr>\n",
       "    <tr>\n",
       "      <th>64</th>\n",
       "      <td>(PINK REGENCY TEACUP AND SAUCER, ROSES REGENCY...</td>\n",
       "      <td>(GREEN REGENCY TEACUP AND SAUCER)</td>\n",
       "      <td>0.023004</td>\n",
       "      <td>0.036759</td>\n",
       "      <td>0.020482</td>\n",
       "      <td>0.890339</td>\n",
       "      <td>24.221015</td>\n",
       "      <td>0.019636</td>\n",
       "      <td>8.783841</td>\n",
       "    </tr>\n",
       "    <tr>\n",
       "      <th>65</th>\n",
       "      <td>(PINK REGENCY TEACUP AND SAUCER, GREEN REGENCY...</td>\n",
       "      <td>(ROSES REGENCY TEACUP AND SAUCER )</td>\n",
       "      <td>0.024266</td>\n",
       "      <td>0.040723</td>\n",
       "      <td>0.020482</td>\n",
       "      <td>0.844059</td>\n",
       "      <td>20.726763</td>\n",
       "      <td>0.019494</td>\n",
       "      <td>6.151553</td>\n",
       "    </tr>\n",
       "    <tr>\n",
       "      <th>66</th>\n",
       "      <td>(ROSES REGENCY TEACUP AND SAUCER , GREEN REGEN...</td>\n",
       "      <td>(PINK REGENCY TEACUP AND SAUCER)</td>\n",
       "      <td>0.028590</td>\n",
       "      <td>0.029611</td>\n",
       "      <td>0.020482</td>\n",
       "      <td>0.716387</td>\n",
       "      <td>24.192941</td>\n",
       "      <td>0.019635</td>\n",
       "      <td>3.421518</td>\n",
       "    </tr>\n",
       "    <tr>\n",
       "      <th>67</th>\n",
       "      <td>(PINK REGENCY TEACUP AND SAUCER)</td>\n",
       "      <td>(ROSES REGENCY TEACUP AND SAUCER , GREEN REGEN...</td>\n",
       "      <td>0.029611</td>\n",
       "      <td>0.028590</td>\n",
       "      <td>0.020482</td>\n",
       "      <td>0.691684</td>\n",
       "      <td>24.192941</td>\n",
       "      <td>0.019635</td>\n",
       "      <td>3.150691</td>\n",
       "    </tr>\n",
       "    <tr>\n",
       "      <th>68</th>\n",
       "      <td>(ROSES REGENCY TEACUP AND SAUCER )</td>\n",
       "      <td>(PINK REGENCY TEACUP AND SAUCER, GREEN REGENCY...</td>\n",
       "      <td>0.040723</td>\n",
       "      <td>0.024266</td>\n",
       "      <td>0.020482</td>\n",
       "      <td>0.502950</td>\n",
       "      <td>20.726763</td>\n",
       "      <td>0.019494</td>\n",
       "      <td>1.963050</td>\n",
       "    </tr>\n",
       "    <tr>\n",
       "      <th>69</th>\n",
       "      <td>(GREEN REGENCY TEACUP AND SAUCER)</td>\n",
       "      <td>(PINK REGENCY TEACUP AND SAUCER, ROSES REGENCY...</td>\n",
       "      <td>0.036759</td>\n",
       "      <td>0.023004</td>\n",
       "      <td>0.020482</td>\n",
       "      <td>0.557190</td>\n",
       "      <td>24.221015</td>\n",
       "      <td>0.019636</td>\n",
       "      <td>2.206352</td>\n",
       "    </tr>\n",
       "  </tbody>\n",
       "</table>\n",
       "</div>"
      ],
      "text/plain": [
       "                                          antecedents  \\\n",
       "1                           (JUMBO BAG PINK POLKADOT)   \n",
       "4                  (ROSES REGENCY TEACUP AND SAUCER )   \n",
       "5                   (GREEN REGENCY TEACUP AND SAUCER)   \n",
       "7                           (LUNCH BAG PINK POLKADOT)   \n",
       "8                 (GARDENERS KNEELING PAD KEEP CALM )   \n",
       "9                (GARDENERS KNEELING PAD CUP OF TEA )   \n",
       "10                (WOODEN PICTURE FRAME WHITE FINISH)   \n",
       "11                      (WOODEN FRAME ANTIQUE WHITE )   \n",
       "12                        (ALARM CLOCK BAKELIKE RED )   \n",
       "13                       (ALARM CLOCK BAKELIKE GREEN)   \n",
       "15                          (LUNCH BAG PINK POLKADOT)   \n",
       "17                (PAPER CHAIN KIT VINTAGE CHRISTMAS)   \n",
       "19                 (RED HANGING HEART T-LIGHT HOLDER)   \n",
       "26                           (JUMBO STORAGE BAG SUKI)   \n",
       "28                   (PINK REGENCY TEACUP AND SAUCER)   \n",
       "29                  (GREEN REGENCY TEACUP AND SAUCER)   \n",
       "32                            (HEART OF WICKER LARGE)   \n",
       "37                             (JUMBO BAG STRAWBERRY)   \n",
       "42                   (PINK REGENCY TEACUP AND SAUCER)   \n",
       "43                 (ROSES REGENCY TEACUP AND SAUCER )   \n",
       "49                               (LUNCH BAG WOODLAND)   \n",
       "56                 (ROSES REGENCY TEACUP AND SAUCER )   \n",
       "61                   (JUMBO  BAG BAROQUE BLACK WHITE)   \n",
       "63                               (LUNCH BAG WOODLAND)   \n",
       "64  (PINK REGENCY TEACUP AND SAUCER, ROSES REGENCY...   \n",
       "65  (PINK REGENCY TEACUP AND SAUCER, GREEN REGENCY...   \n",
       "66  (ROSES REGENCY TEACUP AND SAUCER , GREEN REGEN...   \n",
       "67                   (PINK REGENCY TEACUP AND SAUCER)   \n",
       "68                 (ROSES REGENCY TEACUP AND SAUCER )   \n",
       "69                  (GREEN REGENCY TEACUP AND SAUCER)   \n",
       "\n",
       "                                          consequents  antecedent support  \\\n",
       "1                           (JUMBO BAG RED RETROSPOT)            0.048772   \n",
       "4                   (GREEN REGENCY TEACUP AND SAUCER)            0.040723   \n",
       "5                  (ROSES REGENCY TEACUP AND SAUCER )            0.036759   \n",
       "7                           (LUNCH BAG RED RETROSPOT)            0.050934   \n",
       "8                (GARDENERS KNEELING PAD CUP OF TEA )            0.044567   \n",
       "9                 (GARDENERS KNEELING PAD KEEP CALM )            0.037660   \n",
       "10                      (WOODEN FRAME ANTIQUE WHITE )            0.051294   \n",
       "11                (WOODEN PICTURE FRAME WHITE FINISH)            0.047090   \n",
       "12                       (ALARM CLOCK BAKELIKE GREEN)            0.045528   \n",
       "13                        (ALARM CLOCK BAKELIKE RED )            0.041444   \n",
       "15                          (LUNCH BAG  BLACK SKULL.)            0.050934   \n",
       "17                  (PAPER CHAIN KIT 50'S CHRISTMAS )            0.040663   \n",
       "19               (WHITE HANGING HEART T-LIGHT HOLDER)            0.038561   \n",
       "26                          (JUMBO BAG RED RETROSPOT)            0.043246   \n",
       "28                  (GREEN REGENCY TEACUP AND SAUCER)            0.029611   \n",
       "29                   (PINK REGENCY TEACUP AND SAUCER)            0.036759   \n",
       "32                            (HEART OF WICKER SMALL)            0.047510   \n",
       "37                          (JUMBO BAG RED RETROSPOT)            0.037360   \n",
       "42                 (ROSES REGENCY TEACUP AND SAUCER )            0.029611   \n",
       "43                   (PINK REGENCY TEACUP AND SAUCER)            0.040723   \n",
       "49                          (LUNCH BAG RED RETROSPOT)            0.040483   \n",
       "56                         (REGENCY CAKESTAND 3 TIER)            0.040723   \n",
       "61                          (JUMBO BAG RED RETROSPOT)            0.037600   \n",
       "63                       (LUNCH BAG SPACEBOY DESIGN )            0.040483   \n",
       "64                  (GREEN REGENCY TEACUP AND SAUCER)            0.023004   \n",
       "65                 (ROSES REGENCY TEACUP AND SAUCER )            0.024266   \n",
       "66                   (PINK REGENCY TEACUP AND SAUCER)            0.028590   \n",
       "67  (ROSES REGENCY TEACUP AND SAUCER , GREEN REGEN...            0.029611   \n",
       "68  (PINK REGENCY TEACUP AND SAUCER, GREEN REGENCY...            0.040723   \n",
       "69  (PINK REGENCY TEACUP AND SAUCER, ROSES REGENCY...            0.036759   \n",
       "\n",
       "    consequent support   support  confidence       lift  leverage  conviction  \n",
       "1             0.086912  0.030392    0.623153   7.169917  0.026153    2.422965  \n",
       "4             0.036759  0.028590    0.702065  19.099148  0.027093    3.233057  \n",
       "5             0.040723  0.028590    0.777778  19.099148  0.027093    4.316746  \n",
       "7             0.067271  0.028290    0.555425   8.256485  0.024864    2.098021  \n",
       "8             0.037660  0.027509    0.617251  16.390122  0.025831    2.514283  \n",
       "9             0.044567  0.027509    0.730463  16.390122  0.025831    3.544712  \n",
       "10            0.047090  0.027509    0.536300  11.388845  0.025094    2.055013  \n",
       "11            0.051294  0.027509    0.584184  11.388845  0.025094    2.281550  \n",
       "12            0.041444  0.027269    0.598945  14.451925  0.025382    2.390084  \n",
       "13            0.045528  0.027269    0.657971  14.451925  0.025382    2.790617  \n",
       "15            0.059823  0.026548    0.521226   8.712750  0.023501    1.963719  \n",
       "17            0.056760  0.026248    0.645495  11.372321  0.023940    2.660722  \n",
       "19            0.113160  0.025707    0.666667   5.891366  0.021344    2.660520  \n",
       "26            0.086912  0.024506    0.566667   6.519995  0.020747    2.107126  \n",
       "28            0.036759  0.024266    0.819473  22.293137  0.023177    5.335706  \n",
       "29            0.029611  0.024266    0.660131  22.293137  0.023177    2.855182  \n",
       "32            0.055739  0.023905    0.503161   9.027069  0.021257    1.900535  \n",
       "37            0.086912  0.023725    0.635048   7.306785  0.020478    2.501941  \n",
       "42            0.040723  0.023004    0.776876  19.077010  0.021799    4.299304  \n",
       "43            0.029611  0.023004    0.564897  19.077010  0.021799    2.230249  \n",
       "49            0.067271  0.021863    0.540059   8.028079  0.019140    2.027933  \n",
       "56            0.084690  0.021142    0.519174   6.130304  0.017694    1.903621  \n",
       "61            0.086912  0.020842    0.554313   6.377857  0.017574    2.048720  \n",
       "63            0.052436  0.020782    0.513353   9.790167  0.018659    1.947129  \n",
       "64            0.036759  0.020482    0.890339  24.221015  0.019636    8.783841  \n",
       "65            0.040723  0.020482    0.844059  20.726763  0.019494    6.151553  \n",
       "66            0.029611  0.020482    0.716387  24.192941  0.019635    3.421518  \n",
       "67            0.028590  0.020482    0.691684  24.192941  0.019635    3.150691  \n",
       "68            0.024266  0.020482    0.502950  20.726763  0.019494    1.963050  \n",
       "69            0.023004  0.020482    0.557190  24.221015  0.019636    2.206352  "
      ]
     },
     "execution_count": 88,
     "metadata": {},
     "output_type": "execute_result"
    }
   ],
   "source": [
    "# products that will mostly be purchased together\n",
    "rule[(rule['lift'] >= 5) & (rule['confidence']>= 0.5)] "
   ]
  },
  {
   "cell_type": "markdown",
   "id": "9656f53a",
   "metadata": {},
   "source": [
    "The above table gives us information about products that will most likely be purchased together."
   ]
  }
 ],
 "metadata": {
  "kernelspec": {
   "display_name": "Python 3 (ipykernel)",
   "language": "python",
   "name": "python3"
  },
  "language_info": {
   "codemirror_mode": {
    "name": "ipython",
    "version": 3
   },
   "file_extension": ".py",
   "mimetype": "text/x-python",
   "name": "python",
   "nbconvert_exporter": "python",
   "pygments_lexer": "ipython3",
   "version": "3.9.7"
  }
 },
 "nbformat": 4,
 "nbformat_minor": 5
}
